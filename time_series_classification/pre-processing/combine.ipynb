{
 "cells": [
  {
   "cell_type": "code",
   "execution_count": 1,
   "metadata": {},
   "outputs": [],
   "source": [
    "# from tensorflow import keras\n",
    "import numpy as np\n",
    "import matplotlib.pyplot as plt\n",
    "import pandas as pd\n"
   ]
  },
  {
   "cell_type": "code",
   "execution_count": 2,
   "metadata": {},
   "outputs": [],
   "source": [
    "# load preprocessed daat file\n",
    "s1 = pd.read_csv('kimm_60.csv', header=None) \n",
    "s2 = pd.read_csv('kimm_shift_5.csv', header=None) \n",
    "s3 = pd.read_csv('kimm_shift_10.csv', header=None) \n",
    "s4 = pd.read_csv('kimm_shift_15.csv', header=None) \n",
    "s5 = pd.read_csv('kimm_shift_23.csv', header=None) \n",
    "s6 = pd.read_csv('kimm_shift_32.csv', header=None)\n",
    "s7 = pd.read_csv('kimm_shift2.csv', header=None)\n",
    "s8 = pd.read_csv('kimm_shift28.csv', header=None) \n",
    "s9 = pd.read_csv('kimm_shift35.csv', header=None) \n",
    "s10 = pd.read_csv('kimm_shift43.csv', header=None)\n",
    "s11 = pd.read_csv('kimm_shift50.csv', header=None)\n",
    "s12 = pd.read_csv('kimm_shift54.csv', header=None)"
   ]
  },
  {
   "cell_type": "code",
   "execution_count": 4,
   "metadata": {},
   "outputs": [
    {
     "data": {
      "text/plain": [
       "(917376, 61)"
      ]
     },
     "execution_count": 4,
     "metadata": {},
     "output_type": "execute_result"
    }
   ],
   "source": [
    "s = pd.concat([s1,s2,s3,s4,s5,s6,s7,s8,s9,s10,s11,s12],axis=0)\n",
    "s=s.sample(frac=1).reset_index(drop=True)"
   ]
  },
  {
   "cell_type": "code",
   "execution_count": 12,
   "metadata": {},
   "outputs": [],
   "source": [
    "mal = []\n",
    "nor = []\n",
    "for i in range(917376):\n",
    "    if s.iloc[i][60] != 0:\n",
    "        mal.append(s.iloc[i])\n",
    "    else:\n",
    "        nor.append(s.iloc[i])\n",
    "        "
   ]
  },
  {
   "cell_type": "code",
   "execution_count": 14,
   "metadata": {},
   "outputs": [],
   "source": [
    "dfmal = pd.DataFrame(mal)\n",
    "dfnor = pd.DataFrame(nor)\n",
    "\n",
    "dfmal=dfmal.reset_index(drop=False)\n",
    "dfnor=dfnor.reset_index(drop=False)\n",
    "\n",
    "nor = dfnor[:]\n",
    "mal = dfmal[:]\n",
    "\n",
    "ipt = pd.concat([nor,mal],axis=0)\n",
    "ipt = ipt.reset_index(drop=False)\n",
    "del ipt['level_0']\n",
    "del ipt['index']\n",
    "\n",
    "ipt=ipt.sample(frac=1).reset_index(drop=True)\n",
    "\n",
    "ipt.to_csv('final_data_kimm.csv',index=False, header=False)"
   ]
  }
 ],
 "metadata": {
  "kernelspec": {
   "display_name": "Python 3",
   "language": "python",
   "name": "python3"
  },
  "language_info": {
   "codemirror_mode": {
    "name": "ipython",
    "version": 3
   },
   "file_extension": ".py",
   "mimetype": "text/x-python",
   "name": "python",
   "nbconvert_exporter": "python",
   "pygments_lexer": "ipython3",
   "version": "3.7.9"
  }
 },
 "nbformat": 4,
 "nbformat_minor": 4
}
