{
  "nbformat": 4,
  "nbformat_minor": 0,
  "metadata": {
    "kernelspec": {
      "display_name": "Python 3",
      "language": "python",
      "name": "python3"
    },
    "language_info": {
      "codemirror_mode": {
        "name": "ipython",
        "version": 3
      },
      "file_extension": ".py",
      "mimetype": "text/x-python",
      "name": "python",
      "nbconvert_exporter": "python",
      "pygments_lexer": "ipython3",
      "version": "3.8.5"
    },
    "toc": {
      "base_numbering": 1,
      "nav_menu": {},
      "number_sections": true,
      "sideBar": true,
      "skip_h1_title": false,
      "title_cell": "Table of Contents",
      "title_sidebar": "Contents",
      "toc_cell": false,
      "toc_position": {},
      "toc_section_display": true,
      "toc_window_display": true
    },
    "colab": {
      "name": "Submission.ipynb",
      "provenance": [],
      "collapsed_sections": [
        "HzD3k5dNLj-W",
        "j7huVycZLj-Z",
        "GXnxSXsDLj-c"
      ]
    }
  },
  "cells": [
    {
      "cell_type": "markdown",
      "metadata": {
        "id": "MN8VZJ4yBVnz"
      },
      "source": [
        "# AI 기계 시설물 분야 AI 학습용 데이터 활용 경진대회 - 시계열정맨팀 모델 소스코드"
      ]
    },
    {
      "cell_type": "markdown",
      "metadata": {
        "id": "Hw2wZ65NLj99"
      },
      "source": [
        "# **Data preprocessing**"
      ]
    },
    {
      "cell_type": "markdown",
      "metadata": {
        "id": "C69WkZalOdYf"
      },
      "source": [
        "## normalize train data size\r\n",
        "### -  split train data to size (60,1)\r\n",
        "\r\n",
        "## data aumentation\r\n",
        "### -  shift varying amount(<60) and split into (60,1) \r\n",
        "\r\n",
        "## final train data size\r\n",
        "### - kimm : 180000\r\n",
        "### - vib  : 140000\r\n",
        "### - cur  : 130000*3"
      ]
    },
    {
      "cell_type": "code",
      "metadata": {
        "colab": {
          "base_uri": "https://localhost:8080/"
        },
        "id": "d1niA6tRiuPa",
        "outputId": "d88d7d4d-88b4-4b8d-b357-8c269936af61"
      },
      "source": [
        "from google.colab import drive\n",
        "drive.mount('/content/drive')"
      ],
      "execution_count": null,
      "outputs": [
        {
          "output_type": "stream",
          "text": [
            "Mounted at /content/drive\n"
          ],
          "name": "stdout"
        }
      ]
    },
    {
      "cell_type": "code",
      "metadata": {
        "colab": {
          "base_uri": "https://localhost:8080/"
        },
        "id": "cSM_25DLi5p5",
        "outputId": "f01f3d67-b4f1-443f-9829-ca871c93a0b0"
      },
      "source": [
        "cd /content/drive/MyDrive/기계데이터"
      ],
      "execution_count": null,
      "outputs": [
        {
          "output_type": "stream",
          "text": [
            "/content/drive/MyDrive/기계데이터\n"
          ],
          "name": "stdout"
        }
      ]
    },
    {
      "cell_type": "markdown",
      "metadata": {
        "ExecuteTime": {
          "end_time": "2021-02-02T12:01:48.498124Z",
          "start_time": "2021-02-02T12:01:48.491147Z"
        },
        "id": "xY55btrsLj-K"
      },
      "source": [
        "## **모델 학습**\r\n",
        "#### kimm, vib는 동일한 모델, cur은 동일 레이어 다중 입력 모델\r\n"
      ]
    },
    {
      "cell_type": "markdown",
      "metadata": {
        "ExecuteTime": {
          "end_time": "2021-02-02T12:02:10.996645Z",
          "start_time": "2021-02-02T12:02:10.990661Z"
        },
        "id": "ANw0_kMhLj-L"
      },
      "source": [
        "### fcn(kimm&vib) model"
      ]
    },
    {
      "cell_type": "code",
      "metadata": {
        "id": "HlUGRN2jZQWX"
      },
      "source": [
        "import os\r\n",
        "import numpy as np\r\n",
        "import pandas as pd\r\n",
        "import sys\r\n",
        "import sklearn\r\n",
        "import tensorflow.keras as keras\r\n",
        "import tensorflow as tf\r\n",
        "import time\r\n",
        " \r\n",
        "from keras import layers\r\n",
        "from keras.models import Sequential, Model\r\n",
        "from keras import Input\r\n",
        "from keras.layers.merge import concatenate\r\n",
        "\r\n",
        "from sklearn.model_selection import train_test_split"
      ],
      "execution_count": null,
      "outputs": []
    },
    {
      "cell_type": "code",
      "metadata": {
        "id": "W12KnrH_eek7"
      },
      "source": [
        "def create_directory(directory_path):\r\n",
        "    if os.path.exists(directory_path):\r\n",
        "        return None\r\n",
        "    else:\r\n",
        "        try:\r\n",
        "            os.makedirs(directory_path)\r\n",
        "        except:\r\n",
        "            return None\r\n",
        "        return directory_path"
      ],
      "execution_count": null,
      "outputs": []
    },
    {
      "cell_type": "code",
      "metadata": {
        "id": "UEjLr0FRLj-M"
      },
      "source": [
        "def read_dataset(root_dir, dataset_name):\r\n",
        "  \r\n",
        "    datasets_dict = {}\r\n",
        "\r\n",
        "    root_dir_dataset = root_dir\r\n",
        "    df = pd.read_csv(root_dir_dataset + '/' + dataset_name + '.csv')\r\n",
        "    df = df.drop(['Unnamed: 0'], axis = 'columns')\r\n",
        "    df = sklearn.utils.shuffle(df)\r\n",
        "\r\n",
        "    y = df.values[:, -1]\r\n",
        "\r\n",
        "    x = df.iloc[:,:-1]\r\n",
        "\r\n",
        "    x_train, x_test, y_train, y_test = train_test_split(x,y,test_size = 0.1, shuffle =True, random_state = 1004) \r\n",
        "\r\n",
        "    x_train.columns = range(x_train.shape[1])\r\n",
        "    x_test.columns = range(x_test.shape[1])\r\n",
        "\r\n",
        "    x_train = x_train.values\r\n",
        "    x_test = x_test.values\r\n",
        "\r\n",
        "    # normalization\r\n",
        "    std_ = x_train.std(axis=1, keepdims=True)\r\n",
        "    std_[std_ == 0] = 1.0\r\n",
        "    x_train = (x_train - x_train.mean(axis=1, keepdims=True)) / std_\r\n",
        "\r\n",
        "    std_ = x_test.std(axis=1, keepdims=True)\r\n",
        "    std_[std_ == 0] = 1.0\r\n",
        "    x_test = (x_test - x_test.mean(axis=1, keepdims=True)) / std_\r\n",
        "\r\n",
        "    datasets_dict[dataset_name] = (x_train.copy(), y_train.copy(), x_test.copy(),\r\n",
        "                                    y_test.copy())\r\n",
        "    return datasets_dict"
      ],
      "execution_count": null,
      "outputs": []
    },
    {
      "cell_type": "code",
      "metadata": {
        "id": "H38CwKYGdw4Z"
      },
      "source": [
        "def save_logs(output_directory, hist, y_pred, y_true, duration, lr=True, y_true_val=None, y_pred_val=None):\r\n",
        "\r\n",
        "    hist_df = pd.DataFrame(hist.history)\r\n",
        "    hist_df.to_csv(output_directory + 'history.csv', index=False)\r\n",
        "\r\n",
        "    df_metrics = calculate_metrics(y_true, y_pred, duration, y_true_val, y_pred_val)\r\n",
        "    df_metrics.to_csv(output_directory + 'df_metrics.csv', index=False)\r\n",
        "\r\n",
        "    index_best_model = hist_df['loss'].idxmin()\r\n",
        "    row_best_model = hist_df.loc[index_best_model]\r\n",
        "\r\n",
        "    df_best_model = pd.DataFrame(data=np.zeros((1, 6), dtype=np.float), index=[0],\r\n",
        "                                 columns=['best_model_train_loss', 'best_model_val_loss', 'best_model_train_acc',\r\n",
        "                                          'best_model_val_acc', 'best_model_learning_rate', 'best_model_nb_epoch'])\r\n",
        "\r\n",
        "    df_best_model['best_model_train_loss'] = row_best_model['loss']\r\n",
        "    df_best_model['best_model_val_loss'] = row_best_model['val_loss']\r\n",
        "    df_best_model['best_model_train_acc'] = row_best_model['accuracy']\r\n",
        "    df_best_model['best_model_val_acc'] = row_best_model['val_accuracy']\r\n",
        "    if lr == True:\r\n",
        "        df_best_model['best_model_learning_rate'] = row_best_model['lr']\r\n",
        "    df_best_model['best_model_nb_epoch'] = index_best_model\r\n",
        "\r\n",
        "    df_best_model.to_csv(output_directory + 'df_best_model.csv', index=False)\r\n",
        "\r\n",
        "    plot_epochs_metric(hist, output_directory + 'epochs_loss.png')    # plot losses\r\n",
        "\r\n",
        "    return df_metrics"
      ],
      "execution_count": null,
      "outputs": []
    },
    {
      "cell_type": "code",
      "metadata": {
        "id": "TJtTshA3d0n3"
      },
      "source": [
        "def calculate_metrics(y_true, y_pred, duration, y_true_val=None, y_pred_val=None):\r\n",
        "\r\n",
        "    res = pd.DataFrame(data=np.zeros((1, 4), dtype=np.float), index=[0],\r\n",
        "                       columns=['precision', 'accuracy', 'recall', 'duration'])\r\n",
        "    res['precision'] = precision_score(y_true, y_pred, average='macro')\r\n",
        "    res['accuracy'] = accuracy_score(y_true, y_pred)\r\n",
        "\r\n",
        "    if not y_true_val is None:\r\n",
        "        res['accuracy_val'] = accuracy_score(y_true_val, y_pred_val)\r\n",
        "\r\n",
        "    res['recall'] = recall_score(y_true, y_pred, average='macro')\r\n",
        "    res['duration'] = duration\r\n",
        "    return res"
      ],
      "execution_count": null,
      "outputs": []
    },
    {
      "cell_type": "code",
      "metadata": {
        "id": "eiGU94uQaBI0"
      },
      "source": [
        "class Classifier_FCN:\r\n",
        "\r\n",
        "\tdef __init__(self, output_directory, input_shape, nb_classes, verbose=False,build=True):\r\n",
        "\t\tself.output_directory = output_directory\r\n",
        "\t\tif build == True:\r\n",
        "\t\t\tself.model = self.build_model(input_shape, nb_classes)\r\n",
        "\t\t\tif(verbose==True):\r\n",
        "\t\t\t\tself.model.summary()\r\n",
        "\t\t\tself.verbose = verbose\r\n",
        "\t\t\tself.model.save_weights(self.output_directory+'model_init.h5')\r\n",
        "\t\treturn\r\n",
        "\r\n",
        "\tdef build_model(self, input_shape, nb_classes):\r\n",
        "\t\tinput_layer = keras.layers.Input(input_shape)\r\n",
        "\r\n",
        "\t\tconv1 = keras.layers.Conv1D(filters=128, kernel_size=8, padding='same')(input_layer)\r\n",
        "\t\tconv1 = keras.layers.BatchNormalization()(conv1)\r\n",
        "\t\tconv1 = keras.layers.Activation(activation='relu')(conv1)\r\n",
        "\r\n",
        "\t\tconv2 = keras.layers.Conv1D(filters=256, kernel_size=5, padding='same')(conv1)\r\n",
        "\t\tconv2 = keras.layers.BatchNormalization()(conv2)\r\n",
        "\t\tconv2 = keras.layers.Activation('relu')(conv2)\r\n",
        "\r\n",
        "\t\tconv3 = keras.layers.Conv1D(128, kernel_size=3,padding='same')(conv2)\r\n",
        "\t\tconv3 = keras.layers.BatchNormalization()(conv3)\r\n",
        "\t\tconv3 = keras.layers.Activation('relu')(conv3)\r\n",
        "\r\n",
        "\t\tgap_layer = keras.layers.GlobalAveragePooling1D()(conv3)\r\n",
        "\r\n",
        "\t\toutput_layer = keras.layers.Dense(nb_classes, activation='softmax')(gap_layer)\r\n",
        "\r\n",
        "\t\tmodel = keras.models.Model(inputs=input_layer, outputs=output_layer)\r\n",
        "\r\n",
        "\t\tmodel.compile(loss='categorical_crossentropy', optimizer = keras.optimizers.Adam(), \r\n",
        "\t\t\tmetrics=['accuracy'])\r\n",
        "\r\n",
        "\t\treduce_lr = keras.callbacks.ReduceLROnPlateau(monitor='loss', factor=0.5, patience=50, \r\n",
        "\t\t\tmin_lr=0.0001)\r\n",
        "\r\n",
        "\t\tfile_path = self.output_directory+'best_model.h5'\r\n",
        "\r\n",
        "\t\tmodel_checkpoint = keras.callbacks.ModelCheckpoint(filepath=file_path, monitor='loss', \r\n",
        "\t\t\tsave_best_only=True)\r\n",
        "\r\n",
        "\t\tself.callbacks = [reduce_lr,model_checkpoint]\r\n",
        "\r\n",
        "\t\treturn model \r\n",
        "\r\n",
        "\tdef model_fit(self, x_train, y_train, x_val, y_val,y_true):\r\n",
        "\t\tif not tf.test.is_gpu_available:\r\n",
        "\t\t\tprint('error')\r\n",
        "\t\t\texit()\r\n",
        "\r\n",
        "\t\tbatch_size = 8\r\n",
        "\t\tnb_epochs = 100\r\n",
        "\r\n",
        "\t\tmini_batch_size = int(min(x_train.shape[0]/10, batch_size))\r\n",
        "\r\n",
        "\t\tstart_time = time.time() \r\n",
        "\r\n",
        "\t\thist = self.model.fit(x_train, y_train, batch_size=mini_batch_size, epochs=nb_epochs,\r\n",
        "\t\t\tverbose=self.verbose, validation_data=(x_val,y_val), callbacks=self.callbacks)\r\n",
        "\t\t\r\n",
        "\t\tduration = time.time() - start_time\r\n",
        "\r\n",
        "\t\tself.model.save(self.output_directory+'last_model.h5')\r\n",
        "\r\n",
        "\t\tmodel = keras.models.load_model(self.output_directory+'best_model.h5')\r\n",
        "\r\n",
        "\t\ty_pred = model.predict(x_val)\r\n",
        "\r\n",
        "\t\ty_pred = np.argmax(y_pred , axis=1)\r\n",
        "\r\n",
        "\t\tsave_logs(self.output_directory, hist, y_pred, y_true, duration)\r\n",
        "\r\n",
        "\t\tkeras.backend.clear_session()"
      ],
      "execution_count": null,
      "outputs": []
    },
    {
      "cell_type": "code",
      "metadata": {
        "id": "R7urKMRbZNLy"
      },
      "source": [
        "def fit_classifier():\r\n",
        "    x_train = datasets_dict[dataset_name][0]\r\n",
        "    y_train = datasets_dict[dataset_name][1]\r\n",
        "    x_test = datasets_dict[dataset_name][2]\r\n",
        "    y_test = datasets_dict[dataset_name][3]\r\n",
        "\r\n",
        "    nb_classes = len(np.unique(np.concatenate((y_train, y_test), axis=0)))\r\n",
        "\r\n",
        "    # label encoding\r\n",
        "    enc = sklearn.preprocessing.OneHotEncoder(categories='auto')\r\n",
        "    enc.fit(np.concatenate((y_train, y_test), axis=0).reshape(-1, 1))\r\n",
        "    y_train = enc.transform(y_train.reshape(-1, 1)).toarray()\r\n",
        "    y_test = enc.transform(y_test.reshape(-1, 1)).toarray()\r\n",
        "\r\n",
        "    y_true = np.argmax(y_test, axis=1)\r\n",
        "\r\n",
        "    if len(x_train.shape) == 2:  # if univariate\r\n",
        "        # add a dimension to make it multivariate with one dimension \r\n",
        "        x_train = x_train.reshape((x_train.shape[0], x_train.shape[1], 1))\r\n",
        "        x_test = x_test.reshape((x_test.shape[0], x_test.shape[1], 1))\r\n",
        "\r\n",
        "    input_shape = x_train.shape[1:]\r\n",
        "\r\n",
        "    classifier = Classifier_FCN(output_directory, input_shape, nb_classes, verbose = True)\r\n",
        "\r\n",
        "    classifier.model_fit(x_train, y_train, x_test, y_test, y_true)"
      ],
      "execution_count": null,
      "outputs": []
    },
    {
      "cell_type": "code",
      "metadata": {
        "id": "2WwsDJ45Z0lk"
      },
      "source": [
        "# main - kimm\r\n",
        "\r\n",
        "root_dir = 'preprocessing_data' # data folder name \r\n",
        "    \r\n",
        "dataset_name = 'kimm_df' # data name\r\n",
        "\r\n",
        "output_directory = 'models/kimm/'\r\n",
        "\r\n",
        "test_dir_df_metrics = output_directory + 'df_metrics.csv'\r\n",
        "\r\n",
        "print('Method: ', dataset_name)\r\n",
        "\r\n",
        "create_directory(output_directory)\r\n",
        "datasets_dict = read_dataset(root_dir, dataset_name)\r\n",
        "\r\n",
        "fit_classifier()\r\n",
        "\r\n",
        "print('DONE')\r\n",
        "\r\n",
        "# the creation of this directory means\r\n",
        "create_directory(output_directory + '/DONE')"
      ],
      "execution_count": null,
      "outputs": []
    },
    {
      "cell_type": "code",
      "metadata": {
        "id": "JBjL2rH2BGgR"
      },
      "source": [
        "# main - vibration\r\n",
        "\r\n",
        "root_dir = 'preprocessing_data' # data folder name \r\n",
        "    \r\n",
        "dataset_name = 'vibration_new' # data name\r\n",
        "\r\n",
        "output_directory = 'models/vibration/'\r\n",
        "\r\n",
        "test_dir_df_metrics = output_directory + 'df_metrics.csv'\r\n",
        "\r\n",
        "print('Method: ', dataset_name)\r\n",
        "\r\n",
        "create_directory(output_directory)\r\n",
        "datasets_dict = read_dataset(root_dir, dataset_name)\r\n",
        "\r\n",
        "fit_classifier()\r\n",
        "\r\n",
        "print('DONE')\r\n",
        "\r\n",
        "# the creation of this directory means\r\n",
        "create_directory(output_directory + '/DONE')"
      ],
      "execution_count": null,
      "outputs": []
    },
    {
      "cell_type": "markdown",
      "metadata": {
        "ExecuteTime": {
          "end_time": "2021-02-02T12:02:30.414892Z",
          "start_time": "2021-02-02T12:02:30.407396Z"
        },
        "id": "VhB2tfPCLj-M"
      },
      "source": [
        "### fcn(curr) model"
      ]
    },
    {
      "cell_type": "code",
      "metadata": {
        "id": "fTKIkZfC972G"
      },
      "source": [
        "def read_datasetR(root_dir, dataset_Rname):\r\n",
        "    datasets_dictR = {}\r\n",
        "\r\n",
        "    root_dir_dataset = root_dir\r\n",
        "    df = pd.read_csv(root_dir_dataset + dataset_Rname + '.csv')\r\n",
        "    df = sklearn.utils.shuffle(df)\r\n",
        "\r\n",
        "    # y_test = df_test.values[:, -1]\r\n",
        "    y = df.values[:, -1]\r\n",
        "    x = df.iloc[:,:-1]\r\n",
        "    x_train, x_test, y_train, y_test = train_test_split(x,y,test_size = 0.1, shuffle =True, random_state = 1004) \r\n",
        "\r\n",
        "    x_train.columns = range(x_train.shape[1])\r\n",
        "    x_test.columns = range(x_test.shape[1])\r\n",
        "\r\n",
        "    x_train = x_train.values\r\n",
        "    x_test = x_test.values\r\n",
        "\r\n",
        "    # znorm\r\n",
        "    std_ = x_train.std(axis=1, keepdims=True)\r\n",
        "    std_[std_ == 0] = 1.0\r\n",
        "    x_train = (x_train - x_train.mean(axis=1, keepdims=True)) / std_\r\n",
        "\r\n",
        "    std_ = x_test.std(axis=1, keepdims=True)\r\n",
        "    std_[std_ == 0] = 1.0\r\n",
        "    x_test = (x_test - x_test.mean(axis=1, keepdims=True)) / std_\r\n",
        "\r\n",
        "    datasets_dictR[dataset_Rname] = (x_train.copy(), y_train.copy(), x_test.copy(),\r\n",
        "                                    y_test.copy())\r\n",
        "\r\n",
        "    return datasets_dictR\r\n",
        "\r\n",
        "\r\n",
        "def read_datasetT(root_dir, dataset_Tname):\r\n",
        "    datasets_dictT = {}\r\n",
        "\r\n",
        "    root_dir_dataset = root_dir\r\n",
        "    df = pd.read_csv(root_dir_dataset + dataset_Tname + '.csv')\r\n",
        "    df = sklearn.utils.shuffle(df)\r\n",
        "\r\n",
        "    # y_test = df_test.values[:, -1]\r\n",
        "    y = df.values[:, -1]\r\n",
        "    x = df.iloc[:,:-1]\r\n",
        "    x_train, x_test, y_train, y_test = train_test_split(x,y,test_size = 0.1, shuffle =True, random_state = 1004) \r\n",
        "\r\n",
        "    x_train.columns = range(x_train.shape[1])\r\n",
        "    x_test.columns = range(x_test.shape[1])\r\n",
        "\r\n",
        "    x_train = x_train.values\r\n",
        "    x_test = x_test.values\r\n",
        "\r\n",
        "    # znorm\r\n",
        "    std_ = x_train.std(axis=1, keepdims=True)\r\n",
        "    std_[std_ == 0] = 1.0\r\n",
        "    x_train = (x_train - x_train.mean(axis=1, keepdims=True)) / std_\r\n",
        "\r\n",
        "    std_ = x_test.std(axis=1, keepdims=True)\r\n",
        "    std_[std_ == 0] = 1.0\r\n",
        "    x_test = (x_test - x_test.mean(axis=1, keepdims=True)) / std_\r\n",
        "\r\n",
        "    datasets_dictT[dataset_Tname] = (x_train.copy(), y_train.copy(), x_test.copy(),\r\n",
        "                                    y_test.copy())\r\n",
        "\r\n",
        "    return datasets_dictT\r\n",
        "\r\n",
        "\r\n",
        "def read_datasetS(root_dir, dataset_Sname):\r\n",
        "    datasets_dictS = {}\r\n",
        "\r\n",
        "    root_dir_dataset = root_dir\r\n",
        "    df = pd.read_csv(root_dir_dataset + dataset_Sname + '.csv')\r\n",
        "    df = sklearn.utils.shuffle(df)\r\n",
        "\r\n",
        "    y = df.values[:, -1]\r\n",
        "    x = df.iloc[:,:-1]\r\n",
        "    x_train, x_test, y_train, y_test = train_test_split(x,y,test_size = 0.1, shuffle =True, random_state = 1004) \r\n",
        "\r\n",
        "    x_train.columns = range(x_train.shape[1])\r\n",
        "    x_test.columns = range(x_test.shape[1])\r\n",
        "\r\n",
        "    x_train = x_train.values\r\n",
        "    x_test = x_test.values\r\n",
        "\r\n",
        "    # znorm\r\n",
        "    std_ = x_train.std(axis=1, keepdims=True)\r\n",
        "    std_[std_ == 0] = 1.0\r\n",
        "    x_train = (x_train - x_train.mean(axis=1, keepdims=True)) / std_\r\n",
        "\r\n",
        "    std_ = x_test.std(axis=1, keepdims=True)\r\n",
        "    std_[std_ == 0] = 1.0\r\n",
        "    x_test = (x_test - x_test.mean(axis=1, keepdims=True)) / std_\r\n",
        "\r\n",
        "    datasets_dictS[dataset_Sname] = (x_train.copy(), y_train.copy(), x_test.copy(),\r\n",
        "                                    y_test.copy())\r\n",
        "\r\n",
        "    return datasets_dictS"
      ],
      "execution_count": null,
      "outputs": []
    },
    {
      "cell_type": "code",
      "metadata": {
        "id": "TafS5ugjLj-N"
      },
      "source": [
        "class Classifier_FCN_CUR:\r\n",
        "  \r\n",
        "  def __init__(self, output_directory, input_shape1, input_shape2,  input_shape3, nb_classes, verbose=True,build=True):\r\n",
        "    self.output_directory = output_directory\r\n",
        "    if build == True:\r\n",
        "      self.model = self.build_cur_model(input_shape1,input_shape2, input_shape3, nb_classes)\r\n",
        "      if(verbose==True):\r\n",
        "        self.model.summary()\r\n",
        "      self.verbose = verbose\r\n",
        "      self.model.save_weights(self.output_directory+'model_init.h5')\r\n",
        "    return\r\n",
        "    \r\n",
        "  def build_cur_model(self, input_shape1, input_shape2, input_shape3, nb_classes):\r\n",
        "    # R\r\n",
        "    input_layerR = keras.layers.Input(input_shape1)\r\n",
        "    conv1R = keras.layers.Conv1D(filters=128, kernel_size=8, padding='same')(input_layerR)\r\n",
        "    conv1R = keras.layers.BatchNormalization()(conv1R)\r\n",
        "    conv1R = keras.layers.Activation(activation='relu')(conv1R)\r\n",
        "    conv2R = keras.layers.Conv1D(filters=256, kernel_size=5, padding='same')(conv1R)\r\n",
        "    conv2R = keras.layers.BatchNormalization()(conv2R)\r\n",
        "    conv2R = keras.layers.Activation('relu')(conv2R)\r\n",
        "    conv3R = keras.layers.Conv1D(128, kernel_size=3,padding='same')(conv2R)\r\n",
        "    conv3R = keras.layers.BatchNormalization()(conv3R)\r\n",
        "    conv3R = keras.layers.Activation('relu')(conv3R)\r\n",
        "    gap_layerR = keras.layers.GlobalAveragePooling1D()(conv3R)\r\n",
        "    \r\n",
        "    model1 = gap_layerR\r\n",
        "\r\n",
        "    #T\r\n",
        "    input_layerT = keras.layers.Input(input_shape2)\r\n",
        "    conv1T = keras.layers.Conv1D(filters=128, kernel_size=8, padding='same')(input_layerT)\r\n",
        "    conv1T = keras.layers.BatchNormalization()(conv1T)\r\n",
        "    conv1T = keras.layers.Activation(activation='relu')(conv1T)\r\n",
        "    conv2T = keras.layers.Conv1D(filters=256, kernel_size=5, padding='same')(conv1T)\r\n",
        "    conv2T = keras.layers.BatchNormalization()(conv2T)\r\n",
        "    conv2T = keras.layers.Activation('relu')(conv2T)\r\n",
        "    conv3T = keras.layers.Conv1D(128, kernel_size=3,padding='same')(conv2T)\r\n",
        "    conv3T = keras.layers.BatchNormalization()(conv3T)\r\n",
        "    conv3T = keras.layers.Activation('relu')(conv3T)\r\n",
        "    gap_layerT = keras.layers.GlobalAveragePooling1D()(conv3T)\r\n",
        "    model2 = gap_layerT\r\n",
        "    \r\n",
        "    # S\r\n",
        "    input_layerS = keras.layers.Input(input_shape3)\r\n",
        "    conv1S = keras.layers.Conv1D(filters=128, kernel_size=8, padding='same')(input_layerS)\r\n",
        "    conv1S = keras.layers.BatchNormalization()(conv1S)\r\n",
        "    conv1S = keras.layers.Activation(activation='relu')(conv1S)\r\n",
        "    conv2S = keras.layers.Conv1D(filters=256, kernel_size=5, padding='same')(conv1S)\r\n",
        "    conv2S = keras.layers.BatchNormalization()(conv2S)\r\n",
        "    conv2S = keras.layers.Activation('relu')(conv2S)\r\n",
        "    conv3S = keras.layers.Conv1D(128, kernel_size=3,padding='same')(conv2S)\r\n",
        "    conv3S = keras.layers.BatchNormalization()(conv3S)\r\n",
        "    conv3S = keras.layers.Activation('relu')(conv3S)\r\n",
        "    gap_layerS = keras.layers.GlobalAveragePooling1D()(conv3S)\r\n",
        "    model3 = gap_layerS\r\n",
        "\r\n",
        "    model = layers.concatenate([model1, model2, model3])\r\n",
        "    output_layer = keras.layers.Dense(nb_classes, activation='softmax')(model)\r\n",
        "    model = keras.models.Model(inputs=[input_layerR, input_layerT, input_layerS], outputs=output_layer)  # 모델 정의 끝\r\n",
        "\r\n",
        "    model.compile(loss='categorical_crossentropy', optimizer = keras.optimizers.Adam(), \r\n",
        "\t\t\tmetrics=['accuracy'])\r\n",
        "      \r\n",
        "    reduce_lr = keras.callbacks.ReduceLROnPlateau(monitor='loss', factor=0.5, patience=50, min_lr=0.00001)\r\n",
        "    file_path = self.output_directory+'best_model.h5'\r\n",
        "    \r\n",
        "    model_checkpoint = keras.callbacks.ModelCheckpoint(filepath=file_path, monitor='loss', save_best_only=True)\r\n",
        "    self.callbacks = [reduce_lr,model_checkpoint]\r\n",
        "    \r\n",
        "    return model\r\n",
        "\r\n",
        "  def model_fit(self, Rx_train,Tx_train,Sx_train, y_train, Rx_test, Tx_test, Sx_test, y_test, y_true):\r\n",
        "    if not tf.test.is_gpu_available:\r\n",
        "      print('error')\r\n",
        "      exit()\r\n",
        "\r\n",
        "    batch_size = 64\r\n",
        "    nb_epochs = 100\r\n",
        "    mini_batch_size = int(min(Rx_train.shape[0]/10, batch_size))\r\n",
        "    start_time = time.time() \r\n",
        "\r\n",
        "    hist = self.model.fit( [Rx_train, Tx_train, Sx_train], y_train, batch_size=mini_batch_size, epochs=nb_epochs,\r\n",
        "\t\t\tverbose=self.verbose, validation_data=([Rx_test,Tx_test,Sx_test],y_test), callbacks=self.callbacks)\r\n",
        "      \r\n",
        "    duration = time.time() - start_time\r\n",
        "    \r\n",
        "    self.model.save(self.output_directory+'last_model.h5')\r\n",
        "    \r\n",
        "    model = keras.models.load_model(self.output_directory+'best_model.h5')\r\n",
        "    \r\n",
        "    y_pred = model.predict([Rx_test,Tx_test,Sx_test])\r\n",
        "\r\n",
        "    y_pred = np.argmax(y_pred , axis=1)\r\n",
        "    \r\n",
        "    save_logs(self.output_directory, hist, y_pred, y_true, duration)\r\n",
        "    \r\n",
        "    keras.backend.clear_session()"
      ],
      "execution_count": null,
      "outputs": []
    },
    {
      "cell_type": "code",
      "metadata": {
        "id": "apM6DkFo-Fn-"
      },
      "source": [
        "def fit_classifier_curr():\r\n",
        "\r\n",
        "    Rx_train = datasets_dictR[dataset_Rname][0]\r\n",
        "    y_train = datasets_dictR[dataset_Rname][1]\r\n",
        "    Rx_test = datasets_dictR[dataset_Rname][2]\r\n",
        "    y_test = datasets_dictR[dataset_Rname][3]\r\n",
        "\r\n",
        "    Tx_train = datasets_dictT[dataset_Tname][0]\r\n",
        "    Ty_train = datasets_dictT[dataset_Tname][1]\r\n",
        "    Tx_test = datasets_dictT[dataset_Tname][2]\r\n",
        "    Ty_test = datasets_dictT[dataset_Tname][3]\r\n",
        "\r\n",
        "    Sx_train = datasets_dictS[dataset_Sname][0]\r\n",
        "    Sy_train = datasets_dictS[dataset_Sname][1]\r\n",
        "    Sx_test = datasets_dictS[dataset_Sname][2]\r\n",
        "    Sy_test = datasets_dictS[dataset_Sname][3]\r\n",
        "\r\n",
        "\r\n",
        "    nb_classes = len(np.unique(np.concatenate((y_train, y_test), axis=0)))\r\n",
        "    enc = sklearn.preprocessing.OneHotEncoder(categories='auto')\r\n",
        "    enc.fit(np.concatenate((y_train, y_test), axis=0).reshape(-1, 1))\r\n",
        "    y_train = enc.transform(y_train.reshape(-1, 1)).toarray()\r\n",
        "    y_test = enc.transform(y_test.reshape(-1, 1)).toarray()\r\n",
        "\r\n",
        "    y_true = np.argmax(y_test, axis=1)\r\n",
        "\r\n",
        "    if len(Rx_train.shape) == 2: \r\n",
        "        Rx_train = Rx_train.reshape((Rx_train.shape[0], Rx_train.shape[1], 1))\r\n",
        "        Rx_test = Rx_test.reshape((Rx_test.shape[0], Rx_test.shape[1], 1))\r\n",
        "\r\n",
        "    if len(Tx_train.shape) == 2:  \r\n",
        "        Tx_train = Tx_train.reshape((Tx_train.shape[0], Tx_train.shape[1], 1))\r\n",
        "        Tx_test = Tx_test.reshape((Tx_test.shape[0], Tx_test.shape[1], 1))\r\n",
        "\r\n",
        "    if len(Sx_train.shape) == 2:  \r\n",
        "        Sx_train = Sx_train.reshape((Sx_train.shape[0], Sx_train.shape[1], 1))\r\n",
        "        Sx_test = Sx_test.reshape((Sx_test.shape[0], Sx_test.shape[1], 1))\r\n",
        "\r\n",
        "    input_shape1 = Rx_train.shape[1:]\r\n",
        "    print('inputshape 출력',input_shape1)\r\n",
        "    input_shape2 = Tx_train.shape[1:]\r\n",
        "    input_shape3 = Sx_train.shape[1:]\r\n",
        "\r\n",
        "    print('input shape: ', input_shape1)\r\n",
        "\r\n",
        "    classifier = Classifier_FCN_CUR(output_directory, input_shape1, input_shape2,  input_shape3, nb_classes, verbose=True)\r\n",
        "    classifier.model_fit(Rx_train,Tx_train,Sx_train, y_train, Rx_test, Tx_test, Sx_test, y_test, y_true)\r\n"
      ],
      "execution_count": null,
      "outputs": []
    },
    {
      "cell_type": "code",
      "metadata": {
        "id": "afzQvH2o-44k"
      },
      "source": [
        "# main \r\n",
        "root_dir = 'preprocessing_data/' # data folder name \r\n",
        "\r\n",
        "# data name\r\n",
        "dataset_Rname = 'curR'\r\n",
        "dataset_Tname = 'curT'\r\n",
        "dataset_Sname = 'curS'\r\n",
        "\r\n",
        "output_directory = 'models/current/'\r\n",
        "\r\n",
        "test_dir_df_metrics = output_directory + 'df_metrics.csv'\r\n",
        "\r\n",
        "print('Method: ', dataset_Rname)\r\n",
        "\r\n",
        "create_directory(output_directory)\r\n",
        "datasets_dictR = read_datasetR(root_dir, dataset_Rname)\r\n",
        "datasets_dictT = read_datasetT(root_dir, dataset_Tname)\r\n",
        "datasets_dictS = read_datasetS(root_dir, dataset_Sname)\r\n",
        "\r\n",
        "fit_classifier_curr()\r\n",
        "\r\n",
        "print('DONE')\r\n",
        "\r\n",
        "# the creation of this directory means\r\n",
        "create_directory(output_directory + '/DONE')"
      ],
      "execution_count": null,
      "outputs": []
    },
    {
      "cell_type": "markdown",
      "metadata": {
        "id": "vfGFg4QdLj-O"
      },
      "source": [
        "## **Test -kimm/vib/curr 나누기**"
      ]
    },
    {
      "cell_type": "code",
      "metadata": {
        "ExecuteTime": {
          "end_time": "2021-02-02T11:30:01.278252Z",
          "start_time": "2021-02-02T11:30:01.255186Z"
        },
        "id": "yyKToPdZLj-Q"
      },
      "source": [
        "submission = pd.read_csv('dataSet_Submission_Re/Submission_Commit.csv')"
      ],
      "execution_count": null,
      "outputs": []
    },
    {
      "cell_type": "code",
      "metadata": {
        "ExecuteTime": {
          "end_time": "2021-02-02T11:30:01.903496Z",
          "start_time": "2021-02-02T11:30:01.890509Z"
        },
        "id": "E_2iEb-iLj-S"
      },
      "source": [
        "submission = submission.drop(index= 100)"
      ],
      "execution_count": null,
      "outputs": []
    },
    {
      "cell_type": "code",
      "metadata": {
        "ExecuteTime": {
          "end_time": "2021-02-02T11:30:02.981969Z",
          "start_time": "2021-02-02T11:30:02.962883Z"
        },
        "id": "ciTr-jVULj-T"
      },
      "source": [
        "submission_file = submission.reset_index()"
      ],
      "execution_count": null,
      "outputs": []
    },
    {
      "cell_type": "code",
      "metadata": {
        "ExecuteTime": {
          "end_time": "2021-02-02T11:30:03.607615Z",
          "start_time": "2021-02-02T11:30:03.601631Z"
        },
        "id": "kHk4HM15Lj-T"
      },
      "source": [
        "submission = submission_file.drop(['index'], axis = 'columns')"
      ],
      "execution_count": null,
      "outputs": []
    },
    {
      "cell_type": "code",
      "metadata": {
        "ExecuteTime": {
          "end_time": "2021-02-02T11:30:04.417086Z",
          "start_time": "2021-02-02T11:30:04.401126Z"
        },
        "id": "mq-3lCd-Lj-U"
      },
      "source": [
        "Kimm_index = []\n",
        "Vib_index = []\n",
        "Curr_index = []\n",
        "for i in range(len(submission)):\n",
        "    if submission['Category'][i] == 'Kimm':\n",
        "        Kimm_index.append(i)\n",
        "    elif submission['Category'][i] == 'Vibration':\n",
        "        Vib_index.append(i)\n",
        "    elif submission['Category'][i] == 'Current':\n",
        "        Curr_index.append(i)"
      ],
      "execution_count": null,
      "outputs": []
    },
    {
      "cell_type": "code",
      "metadata": {
        "ExecuteTime": {
          "end_time": "2021-02-02T11:30:06.083588Z",
          "start_time": "2021-02-02T11:30:06.069596Z"
        },
        "colab": {
          "base_uri": "https://localhost:8080/"
        },
        "id": "ZhUKRh42Lj-V",
        "outputId": "61201978-7a05-4774-fbb5-5fa18a67a85f"
      },
      "source": [
        "folder_name = 'dataSet_Submission_Re'\n",
        "file_list = os.listdir(folder_name)\n",
        "file_list.sort()\n",
        "print(file_list)\n",
        "file_list = file_list[:-1]\n",
        "print(len(file_list))"
      ],
      "execution_count": null,
      "outputs": [
        {
          "output_type": "stream",
          "text": [
            "['001.csv', '002.csv', '003.csv', '004.csv', '005.csv', '006.csv', '007.csv', '008.csv', '009.csv', '010.csv', '011.csv', '012.csv', '013.csv', '014.csv', '015.csv', '016.csv', '017.csv', '018.csv', '019.csv', '020.csv', '021.csv', '022.csv', '023.csv', '024.csv', '025.csv', '026.csv', '027.csv', '028.csv', '029.csv', '030.csv', '031.csv', '032.csv', '033.csv', '034.csv', '035.csv', '036.csv', '037.csv', '038.csv', '039.csv', '040.csv', '041.csv', '042.csv', '043.csv', '044.csv', '045.csv', '046.csv', '047.csv', '048.csv', '049.csv', '050.csv', '051.csv', '052.csv', '053.csv', '054.csv', '055.csv', '056.csv', '057.csv', '058.csv', '059.csv', '060.csv', '061.csv', '062.csv', '063.csv', '064.csv', '065.csv', '066.csv', '067.csv', '068.csv', '069.csv', '070.csv', '071.csv', '072.csv', '073.csv', '074.csv', '075.csv', '076.csv', '077.csv', '078.csv', '079.csv', '080.csv', '081.csv', '082.csv', '083.csv', '084.csv', '085.csv', '086.csv', '087.csv', '088.csv', '089.csv', '090.csv', '091.csv', '092.csv', '093.csv', '094.csv', '095.csv', '096.csv', '097.csv', '098.csv', '099.csv', '100.csv', '101.csv', '102.csv', '103.csv', '104.csv', '105.csv', '106.csv', '107.csv', '108.csv', '109.csv', '110.csv', '111.csv', '112.csv', '113.csv', '114.csv', '115.csv', '116.csv', '117.csv', '118.csv', '119.csv', '120.csv', '121.csv', '122.csv', '123.csv', '124.csv', '125.csv', '126.csv', '127.csv', '128.csv', '129.csv', '130.csv', '131.csv', '132.csv', '133.csv', '134.csv', '135.csv', '136.csv', '137.csv', '138.csv', '139.csv', '140.csv', '141.csv', '142.csv', '143.csv', '144.csv', '145.csv', '146.csv', '147.csv', '148.csv', '149.csv', '150.csv', 'Submission_Commit.csv']\n",
            "150\n"
          ],
          "name": "stdout"
        }
      ]
    },
    {
      "cell_type": "markdown",
      "metadata": {
        "id": "HzD3k5dNLj-W"
      },
      "source": [
        "### kimm"
      ]
    },
    {
      "cell_type": "code",
      "metadata": {
        "ExecuteTime": {
          "end_time": "2021-02-02T11:30:23.380525Z",
          "start_time": "2021-02-02T11:30:23.215926Z"
        },
        "colab": {
          "base_uri": "https://localhost:8080/"
        },
        "id": "3n-40oplLj-X",
        "outputId": "fed476be-095d-40f1-ae41-baa191ecaac0"
      },
      "source": [
        "for i, index in enumerate(Kimm_index):\n",
        "    print(file_list[index])\n",
        "    one_signal = pd.read_csv(os.path.join(folder_name, file_list[index]))\n",
        "    one_signal = pd.DataFrame(one_signal['value'].to_numpy().reshape(1,-1))\n",
        "    if i == 0:\n",
        "        kimm_df = pd.DataFrame(one_signal)\n",
        "    else:\n",
        "        kimm_df = pd.concat([kimm_df, one_signal])\n"
      ],
      "execution_count": null,
      "outputs": [
        {
          "output_type": "stream",
          "text": [
            "001.csv\n",
            "002.csv\n",
            "007.csv\n",
            "009.csv\n",
            "011.csv\n",
            "016.csv\n",
            "018.csv\n",
            "020.csv\n",
            "023.csv\n",
            "024.csv\n",
            "026.csv\n",
            "029.csv\n",
            "041.csv\n",
            "043.csv\n",
            "044.csv\n",
            "049.csv\n",
            "053.csv\n",
            "054.csv\n",
            "057.csv\n",
            "062.csv\n",
            "069.csv\n",
            "072.csv\n",
            "074.csv\n",
            "077.csv\n",
            "079.csv\n",
            "084.csv\n",
            "085.csv\n",
            "086.csv\n",
            "099.csv\n",
            "100.csv\n",
            "106.csv\n",
            "109.csv\n",
            "120.csv\n",
            "122.csv\n",
            "123.csv\n",
            "125.csv\n",
            "128.csv\n",
            "130.csv\n",
            "132.csv\n",
            "133.csv\n",
            "134.csv\n",
            "141.csv\n",
            "144.csv\n",
            "149.csv\n"
          ],
          "name": "stdout"
        }
      ]
    },
    {
      "cell_type": "code",
      "metadata": {
        "ExecuteTime": {
          "end_time": "2021-02-02T11:30:24.788917Z",
          "start_time": "2021-02-02T11:30:24.774921Z"
        },
        "id": "zRslgo_yLj-X"
      },
      "source": [
        "df_kimm = kimm_df.reset_index()\n",
        "df_kimm = df_kimm.drop(['index'], axis = 'columns')"
      ],
      "execution_count": null,
      "outputs": []
    },
    {
      "cell_type": "code",
      "metadata": {
        "ExecuteTime": {
          "end_time": "2021-02-02T11:30:25.790981Z",
          "start_time": "2021-02-02T11:30:25.744107Z"
        },
        "colab": {
          "base_uri": "https://localhost:8080/",
          "height": 224
        },
        "id": "zvQPQVFzLj-X",
        "outputId": "c941010d-2f3a-44f9-8eaa-c9ceadda1508"
      },
      "source": [
        "df_kimm.head()"
      ],
      "execution_count": null,
      "outputs": [
        {
          "output_type": "execute_result",
          "data": {
            "text/html": [
              "<div>\n",
              "<style scoped>\n",
              "    .dataframe tbody tr th:only-of-type {\n",
              "        vertical-align: middle;\n",
              "    }\n",
              "\n",
              "    .dataframe tbody tr th {\n",
              "        vertical-align: top;\n",
              "    }\n",
              "\n",
              "    .dataframe thead th {\n",
              "        text-align: right;\n",
              "    }\n",
              "</style>\n",
              "<table border=\"1\" class=\"dataframe\">\n",
              "  <thead>\n",
              "    <tr style=\"text-align: right;\">\n",
              "      <th></th>\n",
              "      <th>0</th>\n",
              "      <th>1</th>\n",
              "      <th>2</th>\n",
              "      <th>3</th>\n",
              "      <th>4</th>\n",
              "      <th>5</th>\n",
              "      <th>6</th>\n",
              "      <th>7</th>\n",
              "      <th>8</th>\n",
              "      <th>9</th>\n",
              "      <th>10</th>\n",
              "      <th>11</th>\n",
              "      <th>12</th>\n",
              "      <th>13</th>\n",
              "      <th>14</th>\n",
              "      <th>15</th>\n",
              "      <th>16</th>\n",
              "      <th>17</th>\n",
              "      <th>18</th>\n",
              "      <th>19</th>\n",
              "      <th>20</th>\n",
              "      <th>21</th>\n",
              "      <th>22</th>\n",
              "      <th>23</th>\n",
              "      <th>24</th>\n",
              "      <th>25</th>\n",
              "      <th>26</th>\n",
              "      <th>27</th>\n",
              "      <th>28</th>\n",
              "      <th>29</th>\n",
              "      <th>30</th>\n",
              "      <th>31</th>\n",
              "      <th>32</th>\n",
              "      <th>33</th>\n",
              "      <th>34</th>\n",
              "      <th>35</th>\n",
              "      <th>36</th>\n",
              "      <th>37</th>\n",
              "      <th>38</th>\n",
              "      <th>39</th>\n",
              "      <th>40</th>\n",
              "      <th>41</th>\n",
              "      <th>42</th>\n",
              "      <th>43</th>\n",
              "      <th>44</th>\n",
              "      <th>45</th>\n",
              "      <th>46</th>\n",
              "      <th>47</th>\n",
              "      <th>48</th>\n",
              "      <th>49</th>\n",
              "      <th>50</th>\n",
              "      <th>51</th>\n",
              "      <th>52</th>\n",
              "      <th>53</th>\n",
              "      <th>54</th>\n",
              "      <th>55</th>\n",
              "      <th>56</th>\n",
              "      <th>57</th>\n",
              "      <th>58</th>\n",
              "      <th>59</th>\n",
              "    </tr>\n",
              "  </thead>\n",
              "  <tbody>\n",
              "    <tr>\n",
              "      <th>0</th>\n",
              "      <td>0.072470</td>\n",
              "      <td>0.148405</td>\n",
              "      <td>-0.005984</td>\n",
              "      <td>0.080193</td>\n",
              "      <td>-0.012642</td>\n",
              "      <td>0.109416</td>\n",
              "      <td>0.034238</td>\n",
              "      <td>0.012545</td>\n",
              "      <td>0.079226</td>\n",
              "      <td>-0.159403</td>\n",
              "      <td>-0.046621</td>\n",
              "      <td>0.060151</td>\n",
              "      <td>-0.003577</td>\n",
              "      <td>0.083524</td>\n",
              "      <td>-0.007164</td>\n",
              "      <td>0.021305</td>\n",
              "      <td>0.044288</td>\n",
              "      <td>0.039392</td>\n",
              "      <td>0.006948</td>\n",
              "      <td>0.025837</td>\n",
              "      <td>0.016643</td>\n",
              "      <td>-0.008716</td>\n",
              "      <td>0.076095</td>\n",
              "      <td>0.049042</td>\n",
              "      <td>0.084887</td>\n",
              "      <td>0.021137</td>\n",
              "      <td>0.029714</td>\n",
              "      <td>0.002027</td>\n",
              "      <td>0.070583</td>\n",
              "      <td>0.031090</td>\n",
              "      <td>0.012484</td>\n",
              "      <td>0.026629</td>\n",
              "      <td>0.015141</td>\n",
              "      <td>0.048270</td>\n",
              "      <td>0.078368</td>\n",
              "      <td>0.081856</td>\n",
              "      <td>0.039785</td>\n",
              "      <td>0.094646</td>\n",
              "      <td>0.012825</td>\n",
              "      <td>0.054586</td>\n",
              "      <td>0.056137</td>\n",
              "      <td>0.068157</td>\n",
              "      <td>0.013187</td>\n",
              "      <td>0.018519</td>\n",
              "      <td>0.036048</td>\n",
              "      <td>0.039433</td>\n",
              "      <td>0.042249</td>\n",
              "      <td>0.007657</td>\n",
              "      <td>0.042256</td>\n",
              "      <td>-0.002996</td>\n",
              "      <td>0.058905</td>\n",
              "      <td>0.001762</td>\n",
              "      <td>0.077766</td>\n",
              "      <td>0.025617</td>\n",
              "      <td>0.052918</td>\n",
              "      <td>0.026266</td>\n",
              "      <td>0.076022</td>\n",
              "      <td>0.050075</td>\n",
              "      <td>0.045640</td>\n",
              "      <td>0.032859</td>\n",
              "    </tr>\n",
              "    <tr>\n",
              "      <th>1</th>\n",
              "      <td>-0.128280</td>\n",
              "      <td>0.125385</td>\n",
              "      <td>-0.028540</td>\n",
              "      <td>-0.027849</td>\n",
              "      <td>-0.010175</td>\n",
              "      <td>-0.029405</td>\n",
              "      <td>0.086704</td>\n",
              "      <td>0.008864</td>\n",
              "      <td>0.143977</td>\n",
              "      <td>-0.034374</td>\n",
              "      <td>0.114979</td>\n",
              "      <td>0.042890</td>\n",
              "      <td>0.116378</td>\n",
              "      <td>0.030064</td>\n",
              "      <td>0.043560</td>\n",
              "      <td>-0.033613</td>\n",
              "      <td>0.002899</td>\n",
              "      <td>0.028841</td>\n",
              "      <td>0.033855</td>\n",
              "      <td>0.062885</td>\n",
              "      <td>0.023564</td>\n",
              "      <td>0.053296</td>\n",
              "      <td>0.012006</td>\n",
              "      <td>0.084109</td>\n",
              "      <td>0.065108</td>\n",
              "      <td>0.074852</td>\n",
              "      <td>0.021490</td>\n",
              "      <td>-0.004850</td>\n",
              "      <td>0.038795</td>\n",
              "      <td>0.042328</td>\n",
              "      <td>0.045866</td>\n",
              "      <td>0.013715</td>\n",
              "      <td>0.048431</td>\n",
              "      <td>-0.000233</td>\n",
              "      <td>0.064802</td>\n",
              "      <td>0.041573</td>\n",
              "      <td>0.071847</td>\n",
              "      <td>0.024251</td>\n",
              "      <td>0.039011</td>\n",
              "      <td>0.018110</td>\n",
              "      <td>0.066123</td>\n",
              "      <td>0.060172</td>\n",
              "      <td>0.028283</td>\n",
              "      <td>0.046933</td>\n",
              "      <td>0.026959</td>\n",
              "      <td>0.071874</td>\n",
              "      <td>0.031991</td>\n",
              "      <td>0.056067</td>\n",
              "      <td>0.028114</td>\n",
              "      <td>0.049730</td>\n",
              "      <td>0.024438</td>\n",
              "      <td>0.040598</td>\n",
              "      <td>0.017703</td>\n",
              "      <td>0.051307</td>\n",
              "      <td>0.023619</td>\n",
              "      <td>0.041275</td>\n",
              "      <td>0.036324</td>\n",
              "      <td>0.054426</td>\n",
              "      <td>0.046997</td>\n",
              "      <td>0.052025</td>\n",
              "    </tr>\n",
              "    <tr>\n",
              "      <th>2</th>\n",
              "      <td>-0.000147</td>\n",
              "      <td>-0.000178</td>\n",
              "      <td>-0.000166</td>\n",
              "      <td>-0.000146</td>\n",
              "      <td>-0.000137</td>\n",
              "      <td>-0.000167</td>\n",
              "      <td>-0.000153</td>\n",
              "      <td>-0.000140</td>\n",
              "      <td>-0.000145</td>\n",
              "      <td>-0.000122</td>\n",
              "      <td>-0.000098</td>\n",
              "      <td>-0.000149</td>\n",
              "      <td>-0.000126</td>\n",
              "      <td>-0.000116</td>\n",
              "      <td>-0.000085</td>\n",
              "      <td>-0.000112</td>\n",
              "      <td>-0.000102</td>\n",
              "      <td>-0.000131</td>\n",
              "      <td>-0.000098</td>\n",
              "      <td>-0.000127</td>\n",
              "      <td>-0.000128</td>\n",
              "      <td>-0.000126</td>\n",
              "      <td>-0.000106</td>\n",
              "      <td>-0.000120</td>\n",
              "      <td>-0.000112</td>\n",
              "      <td>-0.000110</td>\n",
              "      <td>-0.000103</td>\n",
              "      <td>-0.000103</td>\n",
              "      <td>-0.000103</td>\n",
              "      <td>-0.000073</td>\n",
              "      <td>-0.000103</td>\n",
              "      <td>-0.000085</td>\n",
              "      <td>-0.000112</td>\n",
              "      <td>-0.000108</td>\n",
              "      <td>-0.000075</td>\n",
              "      <td>-0.000089</td>\n",
              "      <td>-0.000104</td>\n",
              "      <td>-0.000081</td>\n",
              "      <td>-0.000101</td>\n",
              "      <td>-0.000130</td>\n",
              "      <td>-0.000125</td>\n",
              "      <td>-0.000131</td>\n",
              "      <td>-0.000142</td>\n",
              "      <td>-0.000138</td>\n",
              "      <td>-0.000160</td>\n",
              "      <td>-0.000144</td>\n",
              "      <td>-0.000161</td>\n",
              "      <td>-0.000214</td>\n",
              "      <td>-0.000202</td>\n",
              "      <td>-0.000171</td>\n",
              "      <td>-0.000216</td>\n",
              "      <td>-0.000175</td>\n",
              "      <td>-0.000178</td>\n",
              "      <td>-0.000183</td>\n",
              "      <td>-0.000186</td>\n",
              "      <td>-0.000173</td>\n",
              "      <td>-0.000208</td>\n",
              "      <td>-0.000193</td>\n",
              "      <td>-0.000254</td>\n",
              "      <td>-0.000220</td>\n",
              "    </tr>\n",
              "    <tr>\n",
              "      <th>3</th>\n",
              "      <td>0.003663</td>\n",
              "      <td>0.015076</td>\n",
              "      <td>0.006914</td>\n",
              "      <td>0.001995</td>\n",
              "      <td>-0.004502</td>\n",
              "      <td>0.010738</td>\n",
              "      <td>0.013627</td>\n",
              "      <td>-0.006417</td>\n",
              "      <td>0.001377</td>\n",
              "      <td>0.001470</td>\n",
              "      <td>0.000039</td>\n",
              "      <td>-0.007124</td>\n",
              "      <td>-0.005212</td>\n",
              "      <td>0.005553</td>\n",
              "      <td>-0.004801</td>\n",
              "      <td>-0.009535</td>\n",
              "      <td>0.008419</td>\n",
              "      <td>0.002777</td>\n",
              "      <td>-0.010570</td>\n",
              "      <td>-0.001350</td>\n",
              "      <td>0.005058</td>\n",
              "      <td>-0.001047</td>\n",
              "      <td>0.002331</td>\n",
              "      <td>0.000830</td>\n",
              "      <td>0.003319</td>\n",
              "      <td>-0.001502</td>\n",
              "      <td>-0.001088</td>\n",
              "      <td>0.016614</td>\n",
              "      <td>-0.003580</td>\n",
              "      <td>-0.004602</td>\n",
              "      <td>0.009506</td>\n",
              "      <td>0.003333</td>\n",
              "      <td>0.003651</td>\n",
              "      <td>-0.008404</td>\n",
              "      <td>0.003147</td>\n",
              "      <td>0.011109</td>\n",
              "      <td>-0.010006</td>\n",
              "      <td>0.003519</td>\n",
              "      <td>0.012860</td>\n",
              "      <td>0.001178</td>\n",
              "      <td>-0.005656</td>\n",
              "      <td>0.013750</td>\n",
              "      <td>0.000125</td>\n",
              "      <td>-0.002524</td>\n",
              "      <td>0.001447</td>\n",
              "      <td>0.006092</td>\n",
              "      <td>-0.003864</td>\n",
              "      <td>-0.000242</td>\n",
              "      <td>-0.004087</td>\n",
              "      <td>0.003548</td>\n",
              "      <td>-0.023124</td>\n",
              "      <td>-0.004702</td>\n",
              "      <td>0.000061</td>\n",
              "      <td>-0.003876</td>\n",
              "      <td>-0.005910</td>\n",
              "      <td>-0.005753</td>\n",
              "      <td>-0.005322</td>\n",
              "      <td>-0.007519</td>\n",
              "      <td>-0.007264</td>\n",
              "      <td>-0.000643</td>\n",
              "    </tr>\n",
              "    <tr>\n",
              "      <th>4</th>\n",
              "      <td>0.000007</td>\n",
              "      <td>0.000020</td>\n",
              "      <td>0.000044</td>\n",
              "      <td>0.000047</td>\n",
              "      <td>0.000031</td>\n",
              "      <td>0.000042</td>\n",
              "      <td>0.000051</td>\n",
              "      <td>0.000039</td>\n",
              "      <td>0.000039</td>\n",
              "      <td>0.000054</td>\n",
              "      <td>0.000041</td>\n",
              "      <td>0.000014</td>\n",
              "      <td>0.000051</td>\n",
              "      <td>0.000035</td>\n",
              "      <td>0.000036</td>\n",
              "      <td>0.000033</td>\n",
              "      <td>0.000015</td>\n",
              "      <td>0.000012</td>\n",
              "      <td>0.000052</td>\n",
              "      <td>0.000058</td>\n",
              "      <td>0.000062</td>\n",
              "      <td>0.000053</td>\n",
              "      <td>0.000053</td>\n",
              "      <td>0.000032</td>\n",
              "      <td>0.000087</td>\n",
              "      <td>0.000048</td>\n",
              "      <td>0.000066</td>\n",
              "      <td>0.000054</td>\n",
              "      <td>0.000069</td>\n",
              "      <td>0.000064</td>\n",
              "      <td>0.000043</td>\n",
              "      <td>0.000046</td>\n",
              "      <td>0.000083</td>\n",
              "      <td>0.000073</td>\n",
              "      <td>0.000064</td>\n",
              "      <td>0.000044</td>\n",
              "      <td>0.000046</td>\n",
              "      <td>0.000059</td>\n",
              "      <td>0.000032</td>\n",
              "      <td>0.000062</td>\n",
              "      <td>0.000054</td>\n",
              "      <td>0.000035</td>\n",
              "      <td>0.000045</td>\n",
              "      <td>0.000042</td>\n",
              "      <td>0.000040</td>\n",
              "      <td>0.000054</td>\n",
              "      <td>0.000062</td>\n",
              "      <td>0.000022</td>\n",
              "      <td>0.000044</td>\n",
              "      <td>0.000015</td>\n",
              "      <td>0.000043</td>\n",
              "      <td>0.000034</td>\n",
              "      <td>0.000039</td>\n",
              "      <td>0.000026</td>\n",
              "      <td>0.000051</td>\n",
              "      <td>0.000062</td>\n",
              "      <td>0.000004</td>\n",
              "      <td>0.000052</td>\n",
              "      <td>0.000031</td>\n",
              "      <td>0.000030</td>\n",
              "    </tr>\n",
              "  </tbody>\n",
              "</table>\n",
              "</div>"
            ],
            "text/plain": [
              "         0         1         2   ...        57        58        59\n",
              "0  0.072470  0.148405 -0.005984  ...  0.050075  0.045640  0.032859\n",
              "1 -0.128280  0.125385 -0.028540  ...  0.054426  0.046997  0.052025\n",
              "2 -0.000147 -0.000178 -0.000166  ... -0.000193 -0.000254 -0.000220\n",
              "3  0.003663  0.015076  0.006914  ... -0.007519 -0.007264 -0.000643\n",
              "4  0.000007  0.000020  0.000044  ...  0.000052  0.000031  0.000030\n",
              "\n",
              "[5 rows x 60 columns]"
            ]
          },
          "metadata": {
            "tags": []
          },
          "execution_count": 21
        }
      ]
    },
    {
      "cell_type": "code",
      "metadata": {
        "ExecuteTime": {
          "end_time": "2021-02-02T11:30:26.917591Z",
          "start_time": "2021-02-02T11:30:26.900230Z"
        },
        "colab": {
          "base_uri": "https://localhost:8080/"
        },
        "id": "5d1R-TTkLj-Y",
        "outputId": "edb5ebdf-9401-4d2c-a06f-93f0f7da075d"
      },
      "source": [
        "print(df_kimm.shape)"
      ],
      "execution_count": null,
      "outputs": [
        {
          "output_type": "stream",
          "text": [
            "(44, 60)\n"
          ],
          "name": "stdout"
        }
      ]
    },
    {
      "cell_type": "code",
      "metadata": {
        "ExecuteTime": {
          "end_time": "2021-02-02T11:30:27.928373Z",
          "start_time": "2021-02-02T11:30:27.904351Z"
        },
        "id": "nQ4WtkOmLj-Y"
      },
      "source": [
        "df_kimm.to_csv('kimm_test.csv')"
      ],
      "execution_count": null,
      "outputs": []
    },
    {
      "cell_type": "markdown",
      "metadata": {
        "ExecuteTime": {
          "end_time": "2021-02-02T11:09:23.317357Z",
          "start_time": "2021-02-02T11:09:23.308827Z"
        },
        "id": "j7huVycZLj-Z"
      },
      "source": [
        "### vibration"
      ]
    },
    {
      "cell_type": "code",
      "metadata": {
        "ExecuteTime": {
          "end_time": "2021-02-02T11:30:31.521048Z",
          "start_time": "2021-02-02T11:30:31.316128Z"
        },
        "colab": {
          "base_uri": "https://localhost:8080/"
        },
        "id": "6gyQNZq0Lj-Z",
        "outputId": "af21e9d7-4f13-4ad5-b333-988fa265abcd"
      },
      "source": [
        "for i, index in enumerate(Vib_index):\n",
        "    print(file_list[index])\n",
        "    one_signal = pd.read_csv(os.path.join(folder_name, file_list[index]))\n",
        "    one_signal = pd.DataFrame(one_signal['value'].to_numpy().reshape(1,-1))\n",
        "    if i == 0:\n",
        "        vib_df = pd.DataFrame(one_signal)\n",
        "    else:\n",
        "        vib_df = pd.concat([vib_df, one_signal])\n"
      ],
      "execution_count": null,
      "outputs": [
        {
          "output_type": "stream",
          "text": [
            "003.csv\n",
            "005.csv\n",
            "008.csv\n",
            "010.csv\n",
            "012.csv\n",
            "014.csv\n",
            "015.csv\n",
            "019.csv\n",
            "021.csv\n",
            "025.csv\n",
            "027.csv\n",
            "028.csv\n",
            "030.csv\n",
            "032.csv\n",
            "033.csv\n",
            "036.csv\n",
            "038.csv\n",
            "039.csv\n",
            "045.csv\n",
            "046.csv\n",
            "048.csv\n",
            "051.csv\n",
            "052.csv\n",
            "056.csv\n",
            "058.csv\n",
            "059.csv\n",
            "063.csv\n",
            "064.csv\n",
            "066.csv\n",
            "070.csv\n",
            "071.csv\n",
            "073.csv\n",
            "082.csv\n",
            "083.csv\n",
            "088.csv\n",
            "090.csv\n",
            "091.csv\n",
            "092.csv\n",
            "094.csv\n",
            "096.csv\n",
            "102.csv\n",
            "104.csv\n",
            "108.csv\n",
            "110.csv\n",
            "113.csv\n",
            "114.csv\n",
            "117.csv\n",
            "119.csv\n",
            "127.csv\n",
            "129.csv\n",
            "131.csv\n",
            "135.csv\n",
            "137.csv\n",
            "140.csv\n",
            "143.csv\n",
            "148.csv\n"
          ],
          "name": "stdout"
        }
      ]
    },
    {
      "cell_type": "code",
      "metadata": {
        "ExecuteTime": {
          "end_time": "2021-02-02T11:30:36.518152Z",
          "start_time": "2021-02-02T11:30:36.505988Z"
        },
        "id": "wlKwalLoLj-a"
      },
      "source": [
        "df_vib = vib_df.reset_index()\n",
        "df_vib = df_vib.drop(['index'], axis = 'columns')"
      ],
      "execution_count": null,
      "outputs": []
    },
    {
      "cell_type": "code",
      "metadata": {
        "ExecuteTime": {
          "end_time": "2021-02-02T11:30:37.519588Z",
          "start_time": "2021-02-02T11:30:37.487087Z"
        },
        "colab": {
          "base_uri": "https://localhost:8080/",
          "height": 224
        },
        "id": "IO2rkpENLj-a",
        "outputId": "b8d810f6-4cd6-490e-c6c5-10a5369c0c21"
      },
      "source": [
        "df_vib.head()"
      ],
      "execution_count": null,
      "outputs": [
        {
          "output_type": "execute_result",
          "data": {
            "text/html": [
              "<div>\n",
              "<style scoped>\n",
              "    .dataframe tbody tr th:only-of-type {\n",
              "        vertical-align: middle;\n",
              "    }\n",
              "\n",
              "    .dataframe tbody tr th {\n",
              "        vertical-align: top;\n",
              "    }\n",
              "\n",
              "    .dataframe thead th {\n",
              "        text-align: right;\n",
              "    }\n",
              "</style>\n",
              "<table border=\"1\" class=\"dataframe\">\n",
              "  <thead>\n",
              "    <tr style=\"text-align: right;\">\n",
              "      <th></th>\n",
              "      <th>0</th>\n",
              "      <th>1</th>\n",
              "      <th>2</th>\n",
              "      <th>3</th>\n",
              "      <th>4</th>\n",
              "      <th>5</th>\n",
              "      <th>6</th>\n",
              "      <th>7</th>\n",
              "      <th>8</th>\n",
              "      <th>9</th>\n",
              "      <th>10</th>\n",
              "      <th>11</th>\n",
              "      <th>12</th>\n",
              "      <th>13</th>\n",
              "      <th>14</th>\n",
              "      <th>15</th>\n",
              "      <th>16</th>\n",
              "      <th>17</th>\n",
              "      <th>18</th>\n",
              "      <th>19</th>\n",
              "      <th>20</th>\n",
              "      <th>21</th>\n",
              "      <th>22</th>\n",
              "      <th>23</th>\n",
              "      <th>24</th>\n",
              "      <th>25</th>\n",
              "      <th>26</th>\n",
              "      <th>27</th>\n",
              "      <th>28</th>\n",
              "      <th>29</th>\n",
              "      <th>30</th>\n",
              "      <th>31</th>\n",
              "      <th>32</th>\n",
              "      <th>33</th>\n",
              "      <th>34</th>\n",
              "      <th>35</th>\n",
              "      <th>36</th>\n",
              "      <th>37</th>\n",
              "      <th>38</th>\n",
              "      <th>39</th>\n",
              "      <th>40</th>\n",
              "      <th>41</th>\n",
              "      <th>42</th>\n",
              "      <th>43</th>\n",
              "      <th>44</th>\n",
              "      <th>45</th>\n",
              "      <th>46</th>\n",
              "      <th>47</th>\n",
              "      <th>48</th>\n",
              "      <th>49</th>\n",
              "      <th>50</th>\n",
              "      <th>51</th>\n",
              "      <th>52</th>\n",
              "      <th>53</th>\n",
              "      <th>54</th>\n",
              "      <th>55</th>\n",
              "      <th>56</th>\n",
              "      <th>57</th>\n",
              "      <th>58</th>\n",
              "      <th>59</th>\n",
              "    </tr>\n",
              "  </thead>\n",
              "  <tbody>\n",
              "    <tr>\n",
              "      <th>0</th>\n",
              "      <td>0.001162</td>\n",
              "      <td>0.001894</td>\n",
              "      <td>0.002627</td>\n",
              "      <td>0.001040</td>\n",
              "      <td>-0.000669</td>\n",
              "      <td>0.000429</td>\n",
              "      <td>0.000796</td>\n",
              "      <td>0.000307</td>\n",
              "      <td>0.001772</td>\n",
              "      <td>-0.000547</td>\n",
              "      <td>0.001406</td>\n",
              "      <td>0.002871</td>\n",
              "      <td>0.000185</td>\n",
              "      <td>0.000918</td>\n",
              "      <td>0.001406</td>\n",
              "      <td>0.001162</td>\n",
              "      <td>0.000063</td>\n",
              "      <td>-0.000547</td>\n",
              "      <td>0.000796</td>\n",
              "      <td>0.001162</td>\n",
              "      <td>0.002749</td>\n",
              "      <td>0.002871</td>\n",
              "      <td>0.003359</td>\n",
              "      <td>0.001894</td>\n",
              "      <td>0.000796</td>\n",
              "      <td>0.002627</td>\n",
              "      <td>0.000429</td>\n",
              "      <td>0.000429</td>\n",
              "      <td>-0.000303</td>\n",
              "      <td>0.000429</td>\n",
              "      <td>0.001772</td>\n",
              "      <td>0.001528</td>\n",
              "      <td>0.001406</td>\n",
              "      <td>0.000674</td>\n",
              "      <td>-0.001157</td>\n",
              "      <td>0.000307</td>\n",
              "      <td>0.000918</td>\n",
              "      <td>0.000063</td>\n",
              "      <td>-0.000425</td>\n",
              "      <td>0.002016</td>\n",
              "      <td>-0.000547</td>\n",
              "      <td>-0.000547</td>\n",
              "      <td>0.000674</td>\n",
              "      <td>0.002016</td>\n",
              "      <td>0.000063</td>\n",
              "      <td>-0.001035</td>\n",
              "      <td>-0.002378</td>\n",
              "      <td>-0.000059</td>\n",
              "      <td>0.000551</td>\n",
              "      <td>-0.002012</td>\n",
              "      <td>0.000551</td>\n",
              "      <td>0.002505</td>\n",
              "      <td>0.001406</td>\n",
              "      <td>-0.001402</td>\n",
              "      <td>-0.000181</td>\n",
              "      <td>0.000918</td>\n",
              "      <td>-0.001402</td>\n",
              "      <td>-0.002378</td>\n",
              "      <td>-0.000669</td>\n",
              "      <td>-0.001157</td>\n",
              "    </tr>\n",
              "    <tr>\n",
              "      <th>1</th>\n",
              "      <td>0.002066</td>\n",
              "      <td>0.002676</td>\n",
              "      <td>0.000235</td>\n",
              "      <td>0.000113</td>\n",
              "      <td>0.000845</td>\n",
              "      <td>0.002676</td>\n",
              "      <td>0.002188</td>\n",
              "      <td>-0.000742</td>\n",
              "      <td>-0.001352</td>\n",
              "      <td>0.000235</td>\n",
              "      <td>0.000235</td>\n",
              "      <td>-0.000009</td>\n",
              "      <td>0.000235</td>\n",
              "      <td>-0.000253</td>\n",
              "      <td>-0.000375</td>\n",
              "      <td>-0.000131</td>\n",
              "      <td>-0.000742</td>\n",
              "      <td>0.000601</td>\n",
              "      <td>0.002676</td>\n",
              "      <td>0.001456</td>\n",
              "      <td>-0.001840</td>\n",
              "      <td>-0.001718</td>\n",
              "      <td>-0.001352</td>\n",
              "      <td>-0.002084</td>\n",
              "      <td>-0.001474</td>\n",
              "      <td>-0.002695</td>\n",
              "      <td>-0.000742</td>\n",
              "      <td>-0.001352</td>\n",
              "      <td>-0.000375</td>\n",
              "      <td>-0.000375</td>\n",
              "      <td>0.000235</td>\n",
              "      <td>-0.000619</td>\n",
              "      <td>-0.001230</td>\n",
              "      <td>-0.002451</td>\n",
              "      <td>-0.003183</td>\n",
              "      <td>-0.000864</td>\n",
              "      <td>0.001822</td>\n",
              "      <td>0.002188</td>\n",
              "      <td>0.000845</td>\n",
              "      <td>-0.000375</td>\n",
              "      <td>-0.000375</td>\n",
              "      <td>0.001944</td>\n",
              "      <td>0.001822</td>\n",
              "      <td>-0.001474</td>\n",
              "      <td>-0.001474</td>\n",
              "      <td>0.001456</td>\n",
              "      <td>0.001089</td>\n",
              "      <td>-0.001718</td>\n",
              "      <td>-0.001474</td>\n",
              "      <td>-0.000009</td>\n",
              "      <td>0.000235</td>\n",
              "      <td>-0.000253</td>\n",
              "      <td>-0.001230</td>\n",
              "      <td>-0.001596</td>\n",
              "      <td>-0.002328</td>\n",
              "      <td>-0.000619</td>\n",
              "      <td>-0.001474</td>\n",
              "      <td>-0.001962</td>\n",
              "      <td>-0.000009</td>\n",
              "      <td>0.001212</td>\n",
              "    </tr>\n",
              "    <tr>\n",
              "      <th>2</th>\n",
              "      <td>-0.000062</td>\n",
              "      <td>0.001281</td>\n",
              "      <td>0.003478</td>\n",
              "      <td>0.003234</td>\n",
              "      <td>0.000305</td>\n",
              "      <td>0.000549</td>\n",
              "      <td>0.000427</td>\n",
              "      <td>0.001037</td>\n",
              "      <td>0.000793</td>\n",
              "      <td>0.001281</td>\n",
              "      <td>0.000793</td>\n",
              "      <td>0.000305</td>\n",
              "      <td>-0.001160</td>\n",
              "      <td>-0.000550</td>\n",
              "      <td>0.000182</td>\n",
              "      <td>-0.000428</td>\n",
              "      <td>0.000182</td>\n",
              "      <td>-0.000184</td>\n",
              "      <td>0.001159</td>\n",
              "      <td>0.000549</td>\n",
              "      <td>0.000549</td>\n",
              "      <td>0.002746</td>\n",
              "      <td>0.000671</td>\n",
              "      <td>-0.000916</td>\n",
              "      <td>0.001159</td>\n",
              "      <td>0.000915</td>\n",
              "      <td>0.001403</td>\n",
              "      <td>0.001891</td>\n",
              "      <td>0.001037</td>\n",
              "      <td>0.000915</td>\n",
              "      <td>0.000182</td>\n",
              "      <td>-0.000062</td>\n",
              "      <td>-0.000428</td>\n",
              "      <td>-0.000428</td>\n",
              "      <td>-0.000794</td>\n",
              "      <td>-0.000550</td>\n",
              "      <td>-0.001404</td>\n",
              "      <td>0.002136</td>\n",
              "      <td>0.000915</td>\n",
              "      <td>-0.002381</td>\n",
              "      <td>-0.000794</td>\n",
              "      <td>0.001159</td>\n",
              "      <td>0.000305</td>\n",
              "      <td>0.000549</td>\n",
              "      <td>0.002136</td>\n",
              "      <td>0.001403</td>\n",
              "      <td>-0.000306</td>\n",
              "      <td>0.000549</td>\n",
              "      <td>-0.000794</td>\n",
              "      <td>-0.000428</td>\n",
              "      <td>0.001525</td>\n",
              "      <td>-0.000062</td>\n",
              "      <td>-0.001282</td>\n",
              "      <td>0.000182</td>\n",
              "      <td>0.000060</td>\n",
              "      <td>-0.000794</td>\n",
              "      <td>0.000182</td>\n",
              "      <td>0.000305</td>\n",
              "      <td>0.001403</td>\n",
              "      <td>-0.000428</td>\n",
              "    </tr>\n",
              "    <tr>\n",
              "      <th>3</th>\n",
              "      <td>-0.000765</td>\n",
              "      <td>-0.000765</td>\n",
              "      <td>-0.000643</td>\n",
              "      <td>-0.000887</td>\n",
              "      <td>-0.001376</td>\n",
              "      <td>-0.001620</td>\n",
              "      <td>-0.001742</td>\n",
              "      <td>-0.001376</td>\n",
              "      <td>-0.000765</td>\n",
              "      <td>-0.000765</td>\n",
              "      <td>-0.000277</td>\n",
              "      <td>0.000822</td>\n",
              "      <td>0.001310</td>\n",
              "      <td>0.000577</td>\n",
              "      <td>0.000333</td>\n",
              "      <td>0.001066</td>\n",
              "      <td>0.000944</td>\n",
              "      <td>0.000089</td>\n",
              "      <td>-0.000155</td>\n",
              "      <td>0.000944</td>\n",
              "      <td>0.001310</td>\n",
              "      <td>0.000333</td>\n",
              "      <td>0.000577</td>\n",
              "      <td>0.000455</td>\n",
              "      <td>-0.001132</td>\n",
              "      <td>-0.001986</td>\n",
              "      <td>-0.001498</td>\n",
              "      <td>-0.001132</td>\n",
              "      <td>-0.000521</td>\n",
              "      <td>0.000211</td>\n",
              "      <td>0.000211</td>\n",
              "      <td>0.000211</td>\n",
              "      <td>0.001066</td>\n",
              "      <td>0.001798</td>\n",
              "      <td>0.001310</td>\n",
              "      <td>0.000333</td>\n",
              "      <td>0.000211</td>\n",
              "      <td>0.000700</td>\n",
              "      <td>0.000455</td>\n",
              "      <td>-0.000521</td>\n",
              "      <td>-0.000277</td>\n",
              "      <td>0.000700</td>\n",
              "      <td>0.000822</td>\n",
              "      <td>-0.000399</td>\n",
              "      <td>-0.001254</td>\n",
              "      <td>-0.000521</td>\n",
              "      <td>0.000455</td>\n",
              "      <td>0.000822</td>\n",
              "      <td>0.000089</td>\n",
              "      <td>-0.000521</td>\n",
              "      <td>-0.000155</td>\n",
              "      <td>-0.000155</td>\n",
              "      <td>-0.001376</td>\n",
              "      <td>-0.001742</td>\n",
              "      <td>-0.000521</td>\n",
              "      <td>-0.000033</td>\n",
              "      <td>-0.000643</td>\n",
              "      <td>-0.001009</td>\n",
              "      <td>-0.000643</td>\n",
              "      <td>0.000089</td>\n",
              "    </tr>\n",
              "    <tr>\n",
              "      <th>4</th>\n",
              "      <td>0.001327</td>\n",
              "      <td>0.004379</td>\n",
              "      <td>0.002304</td>\n",
              "      <td>-0.003800</td>\n",
              "      <td>-0.000870</td>\n",
              "      <td>0.001938</td>\n",
              "      <td>0.001938</td>\n",
              "      <td>0.001083</td>\n",
              "      <td>0.003036</td>\n",
              "      <td>0.001938</td>\n",
              "      <td>0.002426</td>\n",
              "      <td>0.001449</td>\n",
              "      <td>-0.000870</td>\n",
              "      <td>-0.001480</td>\n",
              "      <td>-0.000138</td>\n",
              "      <td>-0.000016</td>\n",
              "      <td>0.000351</td>\n",
              "      <td>0.000595</td>\n",
              "      <td>0.000839</td>\n",
              "      <td>-0.001969</td>\n",
              "      <td>-0.000504</td>\n",
              "      <td>-0.000626</td>\n",
              "      <td>0.000351</td>\n",
              "      <td>0.000107</td>\n",
              "      <td>-0.000870</td>\n",
              "      <td>-0.001480</td>\n",
              "      <td>-0.001358</td>\n",
              "      <td>-0.001236</td>\n",
              "      <td>-0.001358</td>\n",
              "      <td>0.002304</td>\n",
              "      <td>0.001083</td>\n",
              "      <td>-0.000504</td>\n",
              "      <td>0.000839</td>\n",
              "      <td>0.001205</td>\n",
              "      <td>-0.000870</td>\n",
              "      <td>-0.000016</td>\n",
              "      <td>0.000717</td>\n",
              "      <td>0.000961</td>\n",
              "      <td>0.001449</td>\n",
              "      <td>-0.000016</td>\n",
              "      <td>-0.001236</td>\n",
              "      <td>-0.002335</td>\n",
              "      <td>-0.001725</td>\n",
              "      <td>0.000107</td>\n",
              "      <td>-0.000016</td>\n",
              "      <td>0.001327</td>\n",
              "      <td>0.001693</td>\n",
              "      <td>0.002182</td>\n",
              "      <td>0.001815</td>\n",
              "      <td>-0.001602</td>\n",
              "      <td>-0.001725</td>\n",
              "      <td>0.001327</td>\n",
              "      <td>0.000839</td>\n",
              "      <td>-0.002579</td>\n",
              "      <td>-0.000748</td>\n",
              "      <td>0.000839</td>\n",
              "      <td>-0.002335</td>\n",
              "      <td>-0.000748</td>\n",
              "      <td>0.001327</td>\n",
              "      <td>0.002182</td>\n",
              "    </tr>\n",
              "  </tbody>\n",
              "</table>\n",
              "</div>"
            ],
            "text/plain": [
              "         0         1         2   ...        57        58        59\n",
              "0  0.001162  0.001894  0.002627  ... -0.002378 -0.000669 -0.001157\n",
              "1  0.002066  0.002676  0.000235  ... -0.001962 -0.000009  0.001212\n",
              "2 -0.000062  0.001281  0.003478  ...  0.000305  0.001403 -0.000428\n",
              "3 -0.000765 -0.000765 -0.000643  ... -0.001009 -0.000643  0.000089\n",
              "4  0.001327  0.004379  0.002304  ... -0.000748  0.001327  0.002182\n",
              "\n",
              "[5 rows x 60 columns]"
            ]
          },
          "metadata": {
            "tags": []
          },
          "execution_count": 26
        }
      ]
    },
    {
      "cell_type": "code",
      "metadata": {
        "ExecuteTime": {
          "end_time": "2021-02-02T11:30:38.611189Z",
          "start_time": "2021-02-02T11:30:38.592927Z"
        },
        "colab": {
          "base_uri": "https://localhost:8080/"
        },
        "id": "g2KOqns3Lj-b",
        "outputId": "acc12555-d079-482c-8546-fa3eb7cd8ced"
      },
      "source": [
        "print(df_vib.shape)"
      ],
      "execution_count": null,
      "outputs": [
        {
          "output_type": "stream",
          "text": [
            "(56, 60)\n"
          ],
          "name": "stdout"
        }
      ]
    },
    {
      "cell_type": "code",
      "metadata": {
        "ExecuteTime": {
          "end_time": "2021-02-02T11:30:39.656719Z",
          "start_time": "2021-02-02T11:30:39.628759Z"
        },
        "id": "3mQwzJDKLj-b"
      },
      "source": [
        "df_vib.to_csv('vib_test.csv')"
      ],
      "execution_count": null,
      "outputs": []
    },
    {
      "cell_type": "markdown",
      "metadata": {
        "id": "GXnxSXsDLj-c"
      },
      "source": [
        "### current"
      ]
    },
    {
      "cell_type": "code",
      "metadata": {
        "ExecuteTime": {
          "end_time": "2021-02-02T11:44:24.826003Z",
          "start_time": "2021-02-02T11:44:24.550145Z"
        },
        "scrolled": false,
        "colab": {
          "base_uri": "https://localhost:8080/"
        },
        "id": "WjTR1uLHLj-c",
        "outputId": "491d8dd6-736c-4017-cd64-aab9f2e149a6"
      },
      "source": [
        "for i, index in enumerate(Curr_index):\n",
        "    print(file_list[index])\n",
        "    if index == 141:\n",
        "        print('error => zero padding')\n",
        "        one_signal = pd.read_csv(os.path.join(folder_name, file_list[index]))\n",
        "        r_signal = pd.DataFrame(one_signal.iloc[:,1].to_numpy().reshape(1,-1))\n",
        "        t_signal = pd.DataFrame(np.zeros(r_signal.shape))\n",
        "        s_signal = pd.DataFrame(np.zeros(r_signal.shape))\n",
        "    else:\n",
        "        one_signal = pd.read_csv(os.path.join(folder_name, file_list[index]))\n",
        "        r_signal = pd.DataFrame(one_signal.iloc[:,1].to_numpy().reshape(1,-1))\n",
        "        t_signal = pd.DataFrame(one_signal.iloc[:,2].to_numpy().reshape(1,-1))\n",
        "        s_signal = pd.DataFrame(one_signal.iloc[:,3].to_numpy().reshape(1,-1))\n",
        "    if i == 0:\n",
        "        curr_r_df = pd.DataFrame(r_signal)\n",
        "        curr_t_df = pd.DataFrame(t_signal)\n",
        "        curr_s_df = pd.DataFrame(s_signal)\n",
        "    else:\n",
        "        curr_r_df = pd.concat([curr_r_df, r_signal])\n",
        "        curr_t_df = pd.concat([curr_t_df, t_signal])\n",
        "        curr_s_df = pd.concat([curr_s_df, s_signal])"
      ],
      "execution_count": null,
      "outputs": [
        {
          "output_type": "stream",
          "text": [
            "004.csv\n",
            "006.csv\n",
            "013.csv\n",
            "017.csv\n",
            "022.csv\n",
            "031.csv\n",
            "034.csv\n",
            "035.csv\n",
            "037.csv\n",
            "040.csv\n",
            "042.csv\n",
            "047.csv\n",
            "050.csv\n",
            "055.csv\n",
            "060.csv\n",
            "061.csv\n",
            "065.csv\n",
            "067.csv\n",
            "068.csv\n",
            "075.csv\n",
            "076.csv\n",
            "078.csv\n",
            "080.csv\n",
            "081.csv\n",
            "087.csv\n",
            "089.csv\n",
            "093.csv\n",
            "095.csv\n",
            "097.csv\n",
            "098.csv\n",
            "101.csv\n",
            "103.csv\n",
            "105.csv\n",
            "107.csv\n",
            "111.csv\n",
            "112.csv\n",
            "115.csv\n",
            "116.csv\n",
            "118.csv\n",
            "121.csv\n",
            "124.csv\n",
            "126.csv\n",
            "136.csv\n",
            "138.csv\n",
            "139.csv\n",
            "142.csv\n",
            "error => zero padding\n",
            "145.csv\n",
            "146.csv\n",
            "147.csv\n",
            "150.csv\n"
          ],
          "name": "stdout"
        }
      ]
    },
    {
      "cell_type": "code",
      "metadata": {
        "ExecuteTime": {
          "end_time": "2021-02-02T11:45:30.944823Z",
          "start_time": "2021-02-02T11:45:30.931280Z"
        },
        "id": "c3v_Av3BLj-d"
      },
      "source": [
        "df_curr_r = curr_r_df.reset_index()\n",
        "df_curr_r = df_curr_r.drop(['index'], axis = 'columns')"
      ],
      "execution_count": null,
      "outputs": []
    },
    {
      "cell_type": "code",
      "metadata": {
        "ExecuteTime": {
          "end_time": "2021-02-02T11:45:31.632640Z",
          "start_time": "2021-02-02T11:45:31.617623Z"
        },
        "id": "P8w1n2s4Lj-d"
      },
      "source": [
        "df_curr_t = curr_t_df.reset_index()\n",
        "df_curr_t = df_curr_t.drop(['index'], axis = 'columns')"
      ],
      "execution_count": null,
      "outputs": []
    },
    {
      "cell_type": "code",
      "metadata": {
        "ExecuteTime": {
          "end_time": "2021-02-02T11:45:32.398175Z",
          "start_time": "2021-02-02T11:45:32.384178Z"
        },
        "id": "Yyt8oYRjLj-d"
      },
      "source": [
        "df_curr_s = curr_s_df.reset_index()\n",
        "df_curr_s = df_curr_s.drop(['index'], axis = 'columns')"
      ],
      "execution_count": null,
      "outputs": []
    },
    {
      "cell_type": "code",
      "metadata": {
        "ExecuteTime": {
          "end_time": "2021-02-02T11:45:47.409383Z",
          "start_time": "2021-02-02T11:45:47.400407Z"
        },
        "colab": {
          "base_uri": "https://localhost:8080/"
        },
        "id": "7S2p5l6kLj-e",
        "outputId": "bb851414-89ff-460f-f05f-4ae9491b6199"
      },
      "source": [
        "print(df_curr_r.shape)\n",
        "print(df_curr_t.shape)\n",
        "print(df_curr_s.shape)"
      ],
      "execution_count": null,
      "outputs": [
        {
          "output_type": "stream",
          "text": [
            "(50, 60)\n",
            "(50, 60)\n",
            "(50, 60)\n"
          ],
          "name": "stdout"
        }
      ]
    },
    {
      "cell_type": "code",
      "metadata": {
        "ExecuteTime": {
          "end_time": "2021-02-02T11:46:19.803567Z",
          "start_time": "2021-02-02T11:46:19.756294Z"
        },
        "id": "EKcmH5P3Lj-e"
      },
      "source": [
        "df_curr_r.to_csv('curr_R_test.csv')\n",
        "df_curr_t.to_csv('curr_T_test.csv')\n",
        "df_curr_s.to_csv('curr_S_test.csv')"
      ],
      "execution_count": null,
      "outputs": []
    },
    {
      "cell_type": "markdown",
      "metadata": {
        "id": "Q2UNq1CZLj-e"
      },
      "source": [
        "## **모델 적용** "
      ]
    },
    {
      "cell_type": "code",
      "metadata": {
        "id": "kOnzheZlLj-f"
      },
      "source": [
        "#normalization\n",
        "def z_norm(df):\n",
        "  data = df.to_numpy()\n",
        "  std_ = data.std(axis=1, keepdims=True)\n",
        "  std_[std_ == 0] = 1.0\n",
        "  norm_data = (data - data.mean(axis=1, keepdims=True)) / std_\n",
        "  return norm_data"
      ],
      "execution_count": null,
      "outputs": []
    },
    {
      "cell_type": "markdown",
      "metadata": {
        "id": "ibdY4953Lj-f"
      },
      "source": [
        "### kimm"
      ]
    },
    {
      "cell_type": "code",
      "metadata": {
        "id": "xVbQ0qhILj-f"
      },
      "source": [
        "kimm_model = keras.models.load_model('models/kimm/best_model.h5',\n",
        "                                custom_objects=None, compile=True)"
      ],
      "execution_count": null,
      "outputs": []
    },
    {
      "cell_type": "code",
      "metadata": {
        "id": "GbqnI3HpLj-g"
      },
      "source": [
        "kimm_sample = tf.convert_to_tensor(z_norm(df_kimm), dtype=tf.float64)"
      ],
      "execution_count": null,
      "outputs": []
    },
    {
      "cell_type": "code",
      "metadata": {
        "colab": {
          "base_uri": "https://localhost:8080/"
        },
        "id": "IjgvRmg0Lj-g",
        "outputId": "672ace76-704d-4268-f2bd-5fe21715c0cd"
      },
      "source": [
        "y_pred = kimm_model.predict(kimm_sample)\n",
        "y_kimm_pred = np.argmax(y_pred,axis=1)\n",
        "print(y_kimm_pred)"
      ],
      "execution_count": null,
      "outputs": [
        {
          "output_type": "stream",
          "text": [
            "[0 0 1 0 1 4 4 0 0 1 1 0 0 2 0 1 3 2 0 4 4 1 2 0 4 0 1 4 3 2 4 0 0 0 0 2 0\n",
            " 0 0 0 0 0 0 0]\n"
          ],
          "name": "stdout"
        }
      ]
    },
    {
      "cell_type": "code",
      "metadata": {
        "colab": {
          "base_uri": "https://localhost:8080/"
        },
        "id": "7tjXZFagPNcQ",
        "outputId": "c1b026b5-45b7-4238-e44d-f17d6389f914"
      },
      "source": [
        "len(y_kimm_pred)"
      ],
      "execution_count": null,
      "outputs": [
        {
          "output_type": "execute_result",
          "data": {
            "text/plain": [
              "44"
            ]
          },
          "metadata": {
            "tags": []
          },
          "execution_count": 39
        }
      ]
    },
    {
      "cell_type": "markdown",
      "metadata": {
        "id": "NbZsBdwBLj-g"
      },
      "source": [
        "### vibration"
      ]
    },
    {
      "cell_type": "code",
      "metadata": {
        "id": "3eS4ZN4GLj-g"
      },
      "source": [
        "vib_model = keras.models.load_model('models/vibration/best_model.h5',\n",
        "                                custom_objects=None, compile=True)"
      ],
      "execution_count": null,
      "outputs": []
    },
    {
      "cell_type": "code",
      "metadata": {
        "id": "OyrYvJYkLj-h"
      },
      "source": [
        "vib_sample = tf.convert_to_tensor(z_norm(df_vib), dtype=tf.float64)"
      ],
      "execution_count": null,
      "outputs": []
    },
    {
      "cell_type": "code",
      "metadata": {
        "colab": {
          "base_uri": "https://localhost:8080/"
        },
        "id": "7C5cM5khLj-h",
        "outputId": "249e389c-a409-4d94-ac9f-dde41e9513ab"
      },
      "source": [
        "y_pred = vib_model.predict(vib_sample)\n",
        "y_vib_pred = np.argmax(y_pred,axis=1)\n",
        "print(y_vib_pred)"
      ],
      "execution_count": null,
      "outputs": [
        {
          "output_type": "stream",
          "text": [
            "[4 1 1 0 2 3 1 1 2 4 4 3 4 4 1 0 3 0 1 0 1 3 3 4 3 4 4 2 0 0 4 1 2 4 2 2 1\n",
            " 3 2 4 4 0 0 0 4 0 0 0 2 0 0 2 2 4 1 3]\n"
          ],
          "name": "stdout"
        }
      ]
    },
    {
      "cell_type": "code",
      "metadata": {
        "colab": {
          "base_uri": "https://localhost:8080/"
        },
        "id": "TACUMdnoPPq-",
        "outputId": "8cb36d4d-f570-43f7-e657-39b45fafa62b"
      },
      "source": [
        "len(y_vib_pred)"
      ],
      "execution_count": null,
      "outputs": [
        {
          "output_type": "execute_result",
          "data": {
            "text/plain": [
              "56"
            ]
          },
          "metadata": {
            "tags": []
          },
          "execution_count": 43
        }
      ]
    },
    {
      "cell_type": "markdown",
      "metadata": {
        "id": "qPjv2HxeLj-h"
      },
      "source": [
        "### current"
      ]
    },
    {
      "cell_type": "code",
      "metadata": {
        "id": "1JTt_exoLj-h"
      },
      "source": [
        "curr_model = keras.models.load_model('models/current/best_model.h5',\n",
        "                                custom_objects=None, compile=True)"
      ],
      "execution_count": null,
      "outputs": []
    },
    {
      "cell_type": "code",
      "metadata": {
        "id": "xeClopX0Lj-i"
      },
      "source": [
        "cur_R_sample = tf.convert_to_tensor(z_norm(df_curr_r), dtype=tf.float64)\n",
        "cur_T_sample = tf.convert_to_tensor(z_norm(df_curr_t), dtype=tf.float64)\n",
        "cur_S_sample = tf.convert_to_tensor(z_norm(df_curr_s), dtype=tf.float64)"
      ],
      "execution_count": null,
      "outputs": []
    },
    {
      "cell_type": "code",
      "metadata": {
        "colab": {
          "base_uri": "https://localhost:8080/"
        },
        "id": "QZkfBmSALj-i",
        "outputId": "f7ebbb54-fc71-488e-8e51-ebb5e24c92bf"
      },
      "source": [
        "y_pred = curr_model.predict([cur_R_sample,cur_T_sample, cur_S_sample])\n",
        "y_curr_pred = np.argmax(y_pred,axis=1)\n",
        "print(y_curr_pred)"
      ],
      "execution_count": null,
      "outputs": [
        {
          "output_type": "stream",
          "text": [
            "[3 0 0 3 1 0 1 3 2 3 2 0 3 3 4 2 4 4 4 4 4 1 2 1 2 4 4 1 0 1 0 0 0 0 0 0 0\n",
            " 4 0 0 0 4 0 0 0 0 0 0 1 4]\n"
          ],
          "name": "stdout"
        }
      ]
    },
    {
      "cell_type": "code",
      "metadata": {
        "colab": {
          "base_uri": "https://localhost:8080/"
        },
        "id": "HaDU2iK_P1xM",
        "outputId": "1597f630-0e73-40fc-ac17-61fa0fb1d0eb"
      },
      "source": [
        "len(y_curr_pred)"
      ],
      "execution_count": null,
      "outputs": [
        {
          "output_type": "execute_result",
          "data": {
            "text/plain": [
              "50"
            ]
          },
          "metadata": {
            "tags": []
          },
          "execution_count": 47
        }
      ]
    },
    {
      "cell_type": "markdown",
      "metadata": {
        "id": "5LNtBqwxQsKq"
      },
      "source": [
        "## make Submission_commit.csv"
      ]
    },
    {
      "cell_type": "code",
      "metadata": {
        "colab": {
          "base_uri": "https://localhost:8080/"
        },
        "id": "jwcK_keIRfkw",
        "outputId": "f290c336-da20-45be-e1ba-e85f178295f6"
      },
      "source": [
        "for i,index in enumerate(Kimm_index):\r\n",
        "  submission['Label'][index] = y_kimm_pred[i]\r\n",
        "for i,index in enumerate(Vib_index):\r\n",
        "  submission['Label'][index] = y_vib_pred[i]\r\n",
        "for i,index in enumerate(Curr_index):\r\n",
        "  submission['Label'][index] = y_curr_pred[i]"
      ],
      "execution_count": null,
      "outputs": [
        {
          "output_type": "stream",
          "text": [
            "/usr/local/lib/python3.6/dist-packages/ipykernel_launcher.py:2: SettingWithCopyWarning: \n",
            "A value is trying to be set on a copy of a slice from a DataFrame\n",
            "\n",
            "See the caveats in the documentation: https://pandas.pydata.org/pandas-docs/stable/user_guide/indexing.html#returning-a-view-versus-a-copy\n",
            "  \n",
            "/usr/local/lib/python3.6/dist-packages/ipykernel_launcher.py:4: SettingWithCopyWarning: \n",
            "A value is trying to be set on a copy of a slice from a DataFrame\n",
            "\n",
            "See the caveats in the documentation: https://pandas.pydata.org/pandas-docs/stable/user_guide/indexing.html#returning-a-view-versus-a-copy\n",
            "  after removing the cwd from sys.path.\n",
            "/usr/local/lib/python3.6/dist-packages/ipykernel_launcher.py:6: SettingWithCopyWarning: \n",
            "A value is trying to be set on a copy of a slice from a DataFrame\n",
            "\n",
            "See the caveats in the documentation: https://pandas.pydata.org/pandas-docs/stable/user_guide/indexing.html#returning-a-view-versus-a-copy\n",
            "  \n"
          ],
          "name": "stderr"
        }
      ]
    },
    {
      "cell_type": "code",
      "metadata": {
        "colab": {
          "base_uri": "https://localhost:8080/"
        },
        "id": "pHyhjipFS6Do",
        "outputId": "881b31e7-395a-4bd3-9f32-70e9174de922"
      },
      "source": [
        "for i in range(len(submission)):\r\n",
        "  label = submission['Label'][i]\r\n",
        "  if label == 0:\r\n",
        "    submission['Label'][i] = 'normal'\r\n",
        "  elif label == 1:\r\n",
        "    submission['Label'][i] = 'bearing'\r\n",
        "  elif label == 2:\r\n",
        "    submission['Label'][i] = 'belt'\r\n",
        "  elif label == 3:\r\n",
        "    submission['Label'][i] = 'misalignment'\r\n",
        "  elif label == 4:\r\n",
        "    submission['Label'][i] = 'unbalance'\r\n",
        "  else:\r\n",
        "    print('index: '+ str(index))\r\n",
        "    print('error')"
      ],
      "execution_count": null,
      "outputs": [
        {
          "output_type": "stream",
          "text": [
            "/usr/local/lib/python3.6/dist-packages/ipykernel_launcher.py:4: SettingWithCopyWarning: \n",
            "A value is trying to be set on a copy of a slice from a DataFrame\n",
            "\n",
            "See the caveats in the documentation: https://pandas.pydata.org/pandas-docs/stable/user_guide/indexing.html#returning-a-view-versus-a-copy\n",
            "  after removing the cwd from sys.path.\n",
            "/usr/local/lib/python3.6/dist-packages/pandas/core/indexing.py:670: SettingWithCopyWarning: \n",
            "A value is trying to be set on a copy of a slice from a DataFrame\n",
            "\n",
            "See the caveats in the documentation: https://pandas.pydata.org/pandas-docs/stable/user_guide/indexing.html#returning-a-view-versus-a-copy\n",
            "  iloc._setitem_with_indexer(indexer, value)\n",
            "/usr/local/lib/python3.6/dist-packages/ipykernel_launcher.py:12: SettingWithCopyWarning: \n",
            "A value is trying to be set on a copy of a slice from a DataFrame\n",
            "\n",
            "See the caveats in the documentation: https://pandas.pydata.org/pandas-docs/stable/user_guide/indexing.html#returning-a-view-versus-a-copy\n",
            "  if sys.path[0] == '':\n",
            "/usr/local/lib/python3.6/dist-packages/ipykernel_launcher.py:10: SettingWithCopyWarning: \n",
            "A value is trying to be set on a copy of a slice from a DataFrame\n",
            "\n",
            "See the caveats in the documentation: https://pandas.pydata.org/pandas-docs/stable/user_guide/indexing.html#returning-a-view-versus-a-copy\n",
            "  # Remove the CWD from sys.path while we load stuff.\n",
            "/usr/local/lib/python3.6/dist-packages/ipykernel_launcher.py:6: SettingWithCopyWarning: \n",
            "A value is trying to be set on a copy of a slice from a DataFrame\n",
            "\n",
            "See the caveats in the documentation: https://pandas.pydata.org/pandas-docs/stable/user_guide/indexing.html#returning-a-view-versus-a-copy\n",
            "  \n",
            "/usr/local/lib/python3.6/dist-packages/ipykernel_launcher.py:8: SettingWithCopyWarning: \n",
            "A value is trying to be set on a copy of a slice from a DataFrame\n",
            "\n",
            "See the caveats in the documentation: https://pandas.pydata.org/pandas-docs/stable/user_guide/indexing.html#returning-a-view-versus-a-copy\n",
            "  \n"
          ],
          "name": "stderr"
        }
      ]
    },
    {
      "cell_type": "code",
      "metadata": {
        "colab": {
          "base_uri": "https://localhost:8080/",
          "height": 419
        },
        "id": "ihDBNDqxUKf-",
        "outputId": "00d16cc0-3550-40f8-eac7-531ab43187a5"
      },
      "source": [
        "submission"
      ],
      "execution_count": null,
      "outputs": [
        {
          "output_type": "execute_result",
          "data": {
            "text/html": [
              "<div>\n",
              "<style scoped>\n",
              "    .dataframe tbody tr th:only-of-type {\n",
              "        vertical-align: middle;\n",
              "    }\n",
              "\n",
              "    .dataframe tbody tr th {\n",
              "        vertical-align: top;\n",
              "    }\n",
              "\n",
              "    .dataframe thead th {\n",
              "        text-align: right;\n",
              "    }\n",
              "</style>\n",
              "<table border=\"1\" class=\"dataframe\">\n",
              "  <thead>\n",
              "    <tr style=\"text-align: right;\">\n",
              "      <th></th>\n",
              "      <th>File_name</th>\n",
              "      <th>Category</th>\n",
              "      <th>Motor</th>\n",
              "      <th>Label</th>\n",
              "    </tr>\n",
              "  </thead>\n",
              "  <tbody>\n",
              "    <tr>\n",
              "      <th>0</th>\n",
              "      <td>1</td>\n",
              "      <td>Kimm</td>\n",
              "      <td>15.0</td>\n",
              "      <td>normal</td>\n",
              "    </tr>\n",
              "    <tr>\n",
              "      <th>1</th>\n",
              "      <td>2</td>\n",
              "      <td>Kimm</td>\n",
              "      <td>15.0</td>\n",
              "      <td>normal</td>\n",
              "    </tr>\n",
              "    <tr>\n",
              "      <th>2</th>\n",
              "      <td>3</td>\n",
              "      <td>Vibration</td>\n",
              "      <td>7.5</td>\n",
              "      <td>unbalance</td>\n",
              "    </tr>\n",
              "    <tr>\n",
              "      <th>3</th>\n",
              "      <td>4</td>\n",
              "      <td>Current</td>\n",
              "      <td>5.5</td>\n",
              "      <td>misalignment</td>\n",
              "    </tr>\n",
              "    <tr>\n",
              "      <th>4</th>\n",
              "      <td>5</td>\n",
              "      <td>Vibration</td>\n",
              "      <td>11.0</td>\n",
              "      <td>bearing</td>\n",
              "    </tr>\n",
              "    <tr>\n",
              "      <th>...</th>\n",
              "      <td>...</td>\n",
              "      <td>...</td>\n",
              "      <td>...</td>\n",
              "      <td>...</td>\n",
              "    </tr>\n",
              "    <tr>\n",
              "      <th>145</th>\n",
              "      <td>146</td>\n",
              "      <td>Current</td>\n",
              "      <td>5.5</td>\n",
              "      <td>normal</td>\n",
              "    </tr>\n",
              "    <tr>\n",
              "      <th>146</th>\n",
              "      <td>147</td>\n",
              "      <td>Current</td>\n",
              "      <td>55.0</td>\n",
              "      <td>bearing</td>\n",
              "    </tr>\n",
              "    <tr>\n",
              "      <th>147</th>\n",
              "      <td>148</td>\n",
              "      <td>Vibration</td>\n",
              "      <td>15.0</td>\n",
              "      <td>misalignment</td>\n",
              "    </tr>\n",
              "    <tr>\n",
              "      <th>148</th>\n",
              "      <td>149</td>\n",
              "      <td>Kimm</td>\n",
              "      <td>18.5</td>\n",
              "      <td>normal</td>\n",
              "    </tr>\n",
              "    <tr>\n",
              "      <th>149</th>\n",
              "      <td>150</td>\n",
              "      <td>Current</td>\n",
              "      <td>7.5</td>\n",
              "      <td>unbalance</td>\n",
              "    </tr>\n",
              "  </tbody>\n",
              "</table>\n",
              "<p>150 rows × 4 columns</p>\n",
              "</div>"
            ],
            "text/plain": [
              "     File_name   Category  Motor         Label\n",
              "0            1       Kimm   15.0        normal\n",
              "1            2       Kimm   15.0        normal\n",
              "2            3  Vibration    7.5     unbalance\n",
              "3            4    Current    5.5  misalignment\n",
              "4            5  Vibration   11.0       bearing\n",
              "..         ...        ...    ...           ...\n",
              "145        146    Current    5.5        normal\n",
              "146        147    Current   55.0       bearing\n",
              "147        148  Vibration   15.0  misalignment\n",
              "148        149       Kimm   18.5        normal\n",
              "149        150    Current    7.5     unbalance\n",
              "\n",
              "[150 rows x 4 columns]"
            ]
          },
          "metadata": {
            "tags": []
          },
          "execution_count": 50
        }
      ]
    },
    {
      "cell_type": "code",
      "metadata": {
        "colab": {
          "base_uri": "https://localhost:8080/"
        },
        "id": "NNvv9VaCI18f",
        "outputId": "cb45d208-2532-4b8a-dc3c-f77455a3d65a"
      },
      "source": [
        "submission.isnull().sum()"
      ],
      "execution_count": null,
      "outputs": [
        {
          "output_type": "execute_result",
          "data": {
            "text/plain": [
              "File_name    0\n",
              "Category     0\n",
              "Motor        0\n",
              "Label        0\n",
              "dtype: int64"
            ]
          },
          "metadata": {
            "tags": []
          },
          "execution_count": 51
        }
      ]
    },
    {
      "cell_type": "code",
      "metadata": {
        "id": "ngQ_Mdoz6kj-"
      },
      "source": [
        "submission.to_csv('Submission_Commit.csv', index = False)"
      ],
      "execution_count": null,
      "outputs": []
    }
  ]
}